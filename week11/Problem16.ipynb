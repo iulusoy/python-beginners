{
 "cells": [
  {
   "cell_type": "markdown",
   "metadata": {},
   "source": [
    "Inga Ulusoy, Computational modelling in python, SoSe2020 \n",
    "\n",
    "# Using pandas\n",
    "\n",
    "Pandas is a library that allows excessive data manipulation (analysis and operations on data) in python:\n",
    "https://pandas.pydata.org/docs/getting_started/index.html#getting-started\n",
    "\n",
    "It is extremely useful and is a prerequisite for the machine-learning part of this course.\n",
    "\n",
    "For a summary, see https://pandas.pydata.org/pandas-docs/stable/reference/frame.html.\n",
    "\n",
    "There are pandas series and dataframes, we will only look at dataframes.\n",
    "Dataframes can be read in from a datafile or created directly from a numpy array.\n",
    "\n",
    "Pandas can work with any kind of data that resembles a table, like spreadsheets or databases (comma-separated values or \"csv\"):"
   ]
  },
  {
   "cell_type": "code",
   "execution_count": null,
   "metadata": {},
   "outputs": [],
   "source": [
    "import pandas as pd\n",
    "from numpy import *\n",
    "import matplotlib.pyplot as plt\n",
    "\n",
    "#Generate a 7x2 NumPy array that holds the data\n",
    "mydata = array([[2.5, 0.097],[5.0, 0.195], [7.5, 0.289], [10.0, 0.387], [15.0, 0.581], [20.0, 0.775], [30.0, 0.966]])\n",
    "\n",
    "#Generate a list with the names of the two columns\n",
    "mynames = ['volume (ml)', 'extinction']\n",
    "\n",
    "# Create a DataFrame.\n",
    "mydataframe = pd.DataFrame(data=mydata, columns=mynames)\n",
    "\n",
    "# Print the entire DataFrame\n",
    "print(mydataframe)"
   ]
  },
  {
   "cell_type": "code",
   "execution_count": null,
   "metadata": {},
   "outputs": [],
   "source": [
    "# Create a new column named volume (l) with the correct entries\n",
    "mydataframe[\"volume (l)\"] = mydataframe[\"volume (ml)\"]/1000\n",
    "\n",
    "# Print the entire DataFrame\n",
    "print(mydataframe)"
   ]
  },
  {
   "cell_type": "markdown",
   "metadata": {},
   "source": [
    "The dataframe can be viewed using head() from the top or tail() from the bottom. The columns are accessed similarly as in python lists or numpy arrays. "
   ]
  },
  {
   "cell_type": "code",
   "execution_count": null,
   "metadata": {},
   "outputs": [],
   "source": [
    "print(\"Rows #0, #1, and #2:\")\n",
    "print(mydataframe.head(3), '\\n')\n",
    "\n",
    "print(\"Row #3:\")\n",
    "print(mydataframe.iloc[[2]], '\\n')\n",
    "\n",
    "print(\"Rows #1, #2, and #3:\")\n",
    "print(mydataframe[1:4], '\\n')\n",
    "\n",
    "print(\"Column 'extinction':\")\n",
    "print(mydataframe['extinction'])"
   ]
  },
  {
   "cell_type": "markdown",
   "metadata": {},
   "source": [
    "You may directly plot the data in the dataframe."
   ]
  },
  {
   "cell_type": "code",
   "execution_count": null,
   "metadata": {},
   "outputs": [],
   "source": [
    "mydataframe.plot()\n",
    "plt.show()"
   ]
  },
  {
   "cell_type": "code",
   "execution_count": null,
   "metadata": {},
   "outputs": [],
   "source": [
    "mydataframe.plot.scatter(x=\"volume (ml)\",y=\"extinction\")\n",
    "plt.show()"
   ]
  },
  {
   "cell_type": "markdown",
   "metadata": {},
   "source": [
    "Or you can export the dataframe to numpy:"
   ]
  },
  {
   "cell_type": "code",
   "execution_count": null,
   "metadata": {},
   "outputs": [],
   "source": [
    "mydataframe.to_numpy()"
   ]
  },
  {
   "cell_type": "markdown",
   "metadata": {},
   "source": [
    "You may get statistical information using describe():"
   ]
  },
  {
   "cell_type": "code",
   "execution_count": null,
   "metadata": {},
   "outputs": [],
   "source": [
    "mydataframe.describe()"
   ]
  },
  {
   "cell_type": "code",
   "execution_count": null,
   "metadata": {},
   "outputs": [],
   "source": [
    "mydataframe.T"
   ]
  },
  {
   "cell_type": "markdown",
   "metadata": {},
   "source": [
    "The values can be sorted by column:"
   ]
  },
  {
   "cell_type": "code",
   "execution_count": null,
   "metadata": {},
   "outputs": [],
   "source": [
    "mydataframe.sort_values(by='extinction')"
   ]
  },
  {
   "cell_type": "markdown",
   "metadata": {},
   "source": [
    "Statistical information can also be obtained using the specific functions such as mean():"
   ]
  },
  {
   "cell_type": "code",
   "execution_count": null,
   "metadata": {},
   "outputs": [],
   "source": [
    "mydataframe.mean()"
   ]
  },
  {
   "cell_type": "markdown",
   "metadata": {},
   "source": [
    "You may also access specified axis: This is the mean along a row of the dataframe."
   ]
  },
  {
   "cell_type": "code",
   "execution_count": null,
   "metadata": {},
   "outputs": [],
   "source": [
    "mydataframe.mean(1)"
   ]
  },
  {
   "cell_type": "markdown",
   "metadata": {},
   "source": [
    "Just as a mention, pandas series can be created as this:"
   ]
  },
  {
   "cell_type": "code",
   "execution_count": null,
   "metadata": {},
   "outputs": [],
   "source": [
    "s = pd.Series(random.randint(0, 7, size=10))\n",
    "s.head(10)"
   ]
  },
  {
   "cell_type": "markdown",
   "metadata": {},
   "source": [
    "This will count how often a specific value occurs in the series."
   ]
  },
  {
   "cell_type": "code",
   "execution_count": null,
   "metadata": {},
   "outputs": [],
   "source": [
    "s.value_counts()"
   ]
  },
  {
   "cell_type": "markdown",
   "metadata": {},
   "source": [
    "Pandas can also read and write to Excel sheets: https://pandas.pydata.org/pandas-docs/stable/reference/api/pandas.read_excel.html"
   ]
  },
  {
   "cell_type": "markdown",
   "metadata": {},
   "source": [
    "# Pandas for proteins\n",
    "\n",
    "For the next one, you may need to install the additional package biopandas.\n",
    "\n",
    "Windows: Open the Anaconda Prompt (Click Start, select Anaconda Prompt)\\\n",
    "type `pip install biopandas`\n",
    "\n",
    "macOS and linux: Open terminal\\\n",
    "type `pip install biopandas`"
   ]
  },
  {
   "cell_type": "code",
   "execution_count": null,
   "metadata": {},
   "outputs": [],
   "source": [
    "from biopandas.pdb import PandasPdb\n",
    "\n",
    "# Initialize a new PandasPdb object\n",
    "# and fetch the PDB file from rcsb.org\n",
    "ppdb = PandasPdb().fetch_pdb('3eiy')"
   ]
  },
  {
   "cell_type": "code",
   "execution_count": null,
   "metadata": {},
   "outputs": [],
   "source": [
    "print('PDB Code: %s' % ppdb.code)\n",
    "print('PDB Header Line: %s' % ppdb.header)\n",
    "print('\\nRaw PDB file contents:\\n\\n%s\\n...' % ppdb.pdb_text[:1000])"
   ]
  },
  {
   "cell_type": "code",
   "execution_count": null,
   "metadata": {},
   "outputs": [],
   "source": [
    "print(ppdb.df)"
   ]
  },
  {
   "cell_type": "code",
   "execution_count": null,
   "metadata": {},
   "outputs": [],
   "source": [
    "ppdb.df['ATOM'].head(10)"
   ]
  },
  {
   "cell_type": "code",
   "execution_count": null,
   "metadata": {},
   "outputs": [],
   "source": [
    "na = ppdb.df['ATOM']\n",
    "print(na.head())\n",
    "na['atom_name'].value_counts()"
   ]
  },
  {
   "cell_type": "code",
   "execution_count": null,
   "metadata": {},
   "outputs": [],
   "source": [
    "reference_point = (9.362, 41.410, 10.542)\n",
    "distances = ppdb.distance(xyz=reference_point, records=('ATOM',))\n",
    "distances.head(8)"
   ]
  },
  {
   "cell_type": "markdown",
   "metadata": {},
   "source": [
    "# Pandas in the Marvel universe\n",
    "\n",
    "Adapted from\n",
    "https://pybit.es/codechallenge44.html and \n",
    "https://pybit.es/guest-marvel-data-analysis.html."
   ]
  },
  {
   "cell_type": "code",
   "execution_count": null,
   "metadata": {},
   "outputs": [],
   "source": [
    "#Read in the datafile\n",
    "df = pd.read_csv('marvel-wikia-data.csv')"
   ]
  },
  {
   "cell_type": "code",
   "execution_count": null,
   "metadata": {},
   "outputs": [],
   "source": [
    "df.info()"
   ]
  },
  {
   "cell_type": "code",
   "execution_count": null,
   "metadata": {},
   "outputs": [],
   "source": [
    "df.head()"
   ]
  },
  {
   "cell_type": "code",
   "execution_count": null,
   "metadata": {},
   "outputs": [],
   "source": [
    "#make everything lowercase\n",
    "df.columns = map(str.lower, df.columns)\n",
    "#Fill empty values for appearances, align and sex\n",
    "df.appearances = df.appearances.fillna(1)\n",
    "df['align'] = df['align'].fillna('Unknown')\n",
    "df.sex = df.sex.fillna('Unknown')\n",
    "#Remove the word characters from alive, sex and align\n",
    "df['alive'] = df['alive'].str.replace(' Characters', '')\n",
    "df['sex'] = df['sex'].str.replace(' Characters', '')\n",
    "df['align'] = df['align'].str.replace(' Characters', '')\n",
    "df.head()"
   ]
  },
  {
   "cell_type": "code",
   "execution_count": null,
   "metadata": {},
   "outputs": [],
   "source": [
    "#df.info()\n",
    "df.describe()"
   ]
  },
  {
   "cell_type": "code",
   "execution_count": null,
   "metadata": {},
   "outputs": [],
   "source": [
    "#Sort appearances in descending order\n",
    "newdf = df.sort_values(by=['appearances'], ascending=False).head(10)\n",
    "#Plot a graph of top 10 characters with most appearances\n",
    "newdf.plot(kind='bar', x='name', y='appearances')\n",
    "plt.tight_layout()  \n",
    "plt.show()"
   ]
  },
  {
   "cell_type": "code",
   "execution_count": null,
   "metadata": {},
   "outputs": [],
   "source": [
    "sex = df.groupby(by=df['sex'])['name'].count().reset_index(name='count')\n",
    "sex['percent'] = sex['count'] / sex['count'].sum() * 100\n",
    "sex['percent'] = sex['percent'].round(2)\n",
    "sex = sex.set_index('sex')\n",
    "percentagefemale = sex.at['Female', 'percent']\n",
    "print('Percentage of female characters', percentagefemale, '%')"
   ]
  },
  {
   "cell_type": "code",
   "execution_count": null,
   "metadata": {},
   "outputs": [],
   "source": [
    "#Let's look at the number of female villians in the data set\n",
    "df.query('align == \"Bad\" & sex == \"Female\"')"
   ]
  },
  {
   "cell_type": "markdown",
   "metadata": {},
   "source": [
    "# Task 1\n",
    "\n",
    "Find out how many of the good and how many of the bad characters are still alive, and how many are deceased. Do the descriptors good / bad and alive / deceased correlate in your opinion?\n",
    "\n",
    "Show the top ten in number of appearances for \"bad, living\", \"bad, deceased\", \"good, living\", \"good, deceased\" in a bar plot. \n",
    "\n",
    "# Task 2\n",
    "\n",
    "From the data in task 1, find the mean number of appearances for the four categories \"bad, living\", \"bad, deceased\", \"good, living\", \"good, deceased\". Find the most often occuring eye and hair color for the four categories."
   ]
  },
  {
   "cell_type": "code",
   "execution_count": null,
   "metadata": {},
   "outputs": [],
   "source": []
  }
 ],
 "metadata": {
  "kernelspec": {
   "display_name": "Python 3",
   "language": "python",
   "name": "python3"
  },
  "language_info": {
   "codemirror_mode": {
    "name": "ipython",
    "version": 3
   },
   "file_extension": ".py",
   "mimetype": "text/x-python",
   "name": "python",
   "nbconvert_exporter": "python",
   "pygments_lexer": "ipython3",
   "version": "3.7.6"
  }
 },
 "nbformat": 4,
 "nbformat_minor": 4
}
