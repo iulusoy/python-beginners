{
 "cells": [
  {
   "cell_type": "markdown",
   "metadata": {},
   "source": [
    "Inga Ulusoy, Computational modelling in python, SoSe2020 \n",
    "\n",
    "# Quantum chemistry using python\n",
    "\n",
    "You need to install a couple of programs and libraries, and the installation is not entirely trivial.\n",
    "\n",
    "If you do not manage to install the libraries, and therefore cannot complete today's task, then please upload a screenshot or otherwise detail why it failed in your case and I will grade your attempt as completed. This will also help me preparing the material for future semesters.\n",
    "\n",
    "In the following, the instructions for __Windows__ are detailed, for Mac/Unix please skip further down.\n",
    "\n",
    "## Windows\n",
    "\n",
    "If you experience issues during the install, the occasional reboot of the operating system works wonders.\n",
    "\n",
    "For both programs that we will be using - PySCF and Psi4 - you will need the Windows Subsystem for Linux. You can download this directly in the App Store following the directions detailed here:\n",
    "\n",
    "https://www.windowscentral.com/install-windows-subsystem-linux-windows-10\n",
    "\n",
    "I recommend installing the Ubuntu subsystem. \n",
    "\n",
    "In case that you are wondering __how to access your linux files / how to access your windows files in between the subsystems__, you can find some pointers here: \\\n",
    "https://superuser.com/questions/1066261/how-to-access-windows-folders-from-bash-on-ubuntu-on-windows\n",
    "\n",
    "Once you have this working, open an Ubuntu terminal. The first time it asks you to create a username and password.\n",
    "\n",
    "Next you need to install some compilers and the current anaconda distribution into your Linux shell. Copy the below commands line by line and execute in the terminal. sudo means that you are executing a command with root (administrator) privileges and you will need to provide your password.\n",
    "\n",
    "`sudo apt-get install cmake` \\\n",
    "`sudo apt-get install -y build-essential` \\\n",
    "`sudo apt-get install libblas-dev liblapack-dev`\\\n",
    "`wget https://repo.anaconda.com/archive/Anaconda3-2020.02-Linux-x86_64.sh` \\\n",
    "`bash Anaconda3-2020.02-Linux-x86_64.sh` \\\n",
    "`echo 'export PATH=\"~/anaconda/bin:$PATH\"' >> ~/.bashrc` \\\n",
    "`rm Anaconda3-2020.02-Linux-x86_64.sh` \\\n",
    "`source ~/.bashrc`\\\n",
    "`conda update conda`\n",
    "\n",
    "Now you should have the basic libraries installed. We will start off with PySCF - https://sunqm.github.io/pyscf/ and https://www.researchgate.net/publication/339615992_Recent_developments_in_the_PySCF_program_package for an overview of available methods - which you can get using\n",
    "\n",
    "`pip install pyscf`\n",
    "\n",
    "We will also need the Berny solver for the geometry optimization:\n",
    "\n",
    "`pip install -U pyberny`\n",
    "\n",
    "You will now need to start the jupyter notebook from the Ubuntu terminal and not through your Windows anaconda install! \n",
    "\n",
    "`jupyter-notebook Problem15.ipynb`\n",
    "\n",
    "Most likely, the jupyter window will not open up automatically but you need to copy and paste the link as printed in the terminal into the browser of your choice. See https://medium.com/@sayanghosh_49221/jupyter-notebook-in-windows-subsystem-for-linux-wsl-f075f7ec8691\n",
    "\n",
    "## MacOS and Unix\n",
    "\n",
    "The installation is straightforward. Execute in your terminal:\n",
    "\n",
    "`pip install pyscf`\\\n",
    "`pip install -U pyberny`"
   ]
  },
  {
   "cell_type": "code",
   "execution_count": null,
   "metadata": {},
   "outputs": [],
   "source": [
    "from scipy.constants import physical_constants\n",
    "au2eV = physical_constants['Hartree energy in eV'][0]\n",
    "bohr2ang = physical_constants['Bohr radius'][0]*1e10\n",
    "\n",
    "import pyscf\n",
    "from pyscf import gto #basis sets\n",
    "from pyscf import scf #electronic-structure methods"
   ]
  },
  {
   "cell_type": "code",
   "execution_count": null,
   "metadata": {},
   "outputs": [],
   "source": [
    "#build the molecule object\n",
    "mol = gto.Mole()\n",
    "mol.atom = '''O 0 0 0; H  0 1 0; H 0 0 1'''\n",
    "mol.basis = '6-31G*'\n",
    "mol.build()"
   ]
  },
  {
   "cell_type": "code",
   "execution_count": null,
   "metadata": {},
   "outputs": [],
   "source": [
    "#run a HF calculation\n",
    "m = scf.RHF(mol)\n",
    "print('E(HF) = %g' % m.kernel())"
   ]
  },
  {
   "cell_type": "code",
   "execution_count": null,
   "metadata": {},
   "outputs": [],
   "source": [
    "#Orbital energies, Mulliken population etc.\n",
    "m.analyze()"
   ]
  },
  {
   "cell_type": "code",
   "execution_count": null,
   "metadata": {},
   "outputs": [],
   "source": [
    "#use different initial guesses - the default is this (the atomic density)\n",
    "m.init_guess = '1e'\n",
    "m.kernel()"
   ]
  },
  {
   "cell_type": "code",
   "execution_count": null,
   "metadata": {},
   "outputs": [],
   "source": [
    "#this initial guess is the Hueckel guess\n",
    "m.init_guess = 'huckel'\n",
    "EHF = m.kernel()"
   ]
  },
  {
   "cell_type": "code",
   "execution_count": null,
   "metadata": {},
   "outputs": [],
   "source": [
    "#an MP2 calculation can be run like this re-using the HF calculation\n",
    "from pyscf import mp\n",
    "mp2 = mp.MP2(m)\n",
    "Ecorr = mp2.kernel()[0]\n",
    "EMP2 = EHF + Ecorr\n",
    "print('E(MP2) = {:3.8f}'.format(EMP2))\n"
   ]
  },
  {
   "cell_type": "code",
   "execution_count": null,
   "metadata": {},
   "outputs": [],
   "source": [
    "#number of atomic orbitals\n",
    "nao = mol.nao_nr()\n",
    "print(nao)"
   ]
  },
  {
   "cell_type": "code",
   "execution_count": null,
   "metadata": {},
   "outputs": [],
   "source": [
    "#number of molecular orbitals\n",
    "print(mol.nbas) #MOs"
   ]
  },
  {
   "cell_type": "code",
   "execution_count": null,
   "metadata": {},
   "outputs": [],
   "source": [
    "#write molden files for visualization purposes\n",
    "#note that pyscf is not always writing these files correctly (particularly, the orbitals)\n",
    "from pyscf.tools import molden"
   ]
  },
  {
   "cell_type": "code",
   "execution_count": null,
   "metadata": {},
   "outputs": [],
   "source": [
    "with open('H2Omo.molden', 'w') as f1:\n",
    "    molden.header(mol, f1)\n",
    "    molden.orbital_coeff(mol, f1, m.mo_coeff, ene=m.mo_energy, occ=m.mo_occ)"
   ]
  },
  {
   "cell_type": "code",
   "execution_count": null,
   "metadata": {},
   "outputs": [],
   "source": [
    "#write cube files for visualization purposes\n",
    "#note that pyscf is not always writing these files correctly (particularly, the orbitals)\n",
    "from pyscf.tools import cubegen\n",
    "cubegen.density(mol, 'h2o_den.cube', m.make_rdm1())"
   ]
  },
  {
   "cell_type": "markdown",
   "metadata": {},
   "source": [
    "## Visualization\n",
    "\n",
    "You may use orbkit or VMD for the visualization. Orbkit has the advantage that it provides another API and will run directly in your ipython notebook. The disadvantage is that the visualization requires mayavi and I have not had much success so far in getting mayavi working on python3 systems. You may try nevertheless, as orbkit is a useful program and can compute densities quite nicely, and I included some example code below, but at this point we will use VMD.\n",
    "\n",
    "VMD can be downloaded from here:\n",
    "https://www.ks.uiuc.edu/Research/vmd/\n",
    "\n",
    "It is also not entirely intuitive to use, but is in fact very powerful. It can even used to generate movies and spectra, and is particularly popular in the Molecular Dynamics (MD) community - you can visualize large biomolecules very nicely.\n",
    "\n",
    "The orbkit installation instructions can be found here:\\\n",
    "https://github.com/orbkit/orbkit\n",
    "\n",
    "You also need mayavi which you can get through\n",
    "\n",
    "`pip install mayavi` \\\n",
    "`conda install mayavi`\n",
    "\n",
    "mayavi needs to be enabled in the jupyter notebooks\n",
    "\n",
    "`jupyter nbextension install --py mayavi --user` \\\n",
    "`jupyter nbextension enable mayavi --user --py`\n",
    "\n",
    "Here are some alternative ways of installing mayavi: \\\n",
    "https://docs.enthought.com/mayavi/mayavi/installation.html\n",
    "\n",
    "## Orbkit - just as a reference if you are interested"
   ]
  },
  {
   "cell_type": "code",
   "execution_count": null,
   "metadata": {},
   "outputs": [],
   "source": [
    "from orbkit import atomic_populations as ap\n",
    "from orbkit import read\n",
    "from orbkit import analytical_integrals as ai"
   ]
  },
  {
   "cell_type": "code",
   "execution_count": null,
   "metadata": {},
   "outputs": [],
   "source": [
    "# Number of processes\n",
    "numproc = 2\n",
    "\n",
    "# Read data with ORBKIT\n",
    "#provide a molden file in your directory\n",
    "qc = read.main_read('LiH.molden',itype='molden',all_mo=True)\n",
    "\n",
    "# Compute AO overlap matrix\n",
    "#ao_overlap_matrix = ai.get_ao_overlap(qc.geo_spec,qc.geo_spec,qc.ao_spec,ao_spherical=qc.ao_spherical)\n",
    "ao_overlap_matrix = ai.get_ao_overlap(qc.geo_spec,qc.geo_spec,qc.ao_spec)\n",
    "\n",
    "# Compute MO overlap matrix\n",
    "moom = ai.get_mo_overlap_matrix(qc.mo_spec,qc.mo_spec,ao_overlap_matrix,numproc=numproc)\n",
    "\n",
    "# Compute electron number\n",
    "# Diagonal of MO overlap matrix times MO occupation number\n",
    "en = 0\n",
    "for i in range(len(qc.mo_spec)):\n",
    "    en += moom.diagonal()[i]*qc.mo_spec[i]['occ_num']\n",
    "print('The analytical electron number is %.8f' % en)\n",
    "\n",
    "# Calculate Mulliken charges\n",
    "pop_mull = ap.mulliken(qc)\n",
    "print('\\nMulliken Charges')\n",
    "for i in pop_mull['charge']:\n",
    "    print('ORBKIT: %.8f' % i)\n",
    "\n",
    "# Calculate Lowdin charges\n",
    "pop_low = ap.lowdin(qc)\n",
    "print('\\nLowdin Charges')\n",
    "for i in pop_low['charge']:\n",
    "    print('ORBKIT: %.8f' % i)\n"
   ]
  },
  {
   "cell_type": "code",
   "execution_count": null,
   "metadata": {},
   "outputs": [],
   "source": [
    "from orbkit import options, main"
   ]
  },
  {
   "cell_type": "code",
   "execution_count": null,
   "metadata": {},
   "outputs": [],
   "source": [
    "options.filename = 'LiH.molden'\n",
    "options.outputname = 'h2o'\n",
    "options.otype = ['mayavi']\n",
    "options.adjust_grid = [5,0.1]\n",
    "options.calc_mo = 'homo-1:homo'"
   ]
  },
  {
   "cell_type": "code",
   "execution_count": null,
   "metadata": {},
   "outputs": [],
   "source": [
    "mo_list, mo_info = main.run_orbkit()"
   ]
  },
  {
   "cell_type": "markdown",
   "metadata": {},
   "source": [
    "## An example: FeCO\n",
    "\n",
    "FeCO is a complex metal compound that has two very close-lying spin states: The triplet ground state (called \"LS\" for low-spin hereafter) and a close-lying quintet state (\"HS\" for high-spin). We will now optimize the geometry of both LS and HS compound and compute energy differences between the LS and HS at each of the geometries. We will start off with Hartree-Fock. "
   ]
  },
  {
   "cell_type": "code",
   "execution_count": null,
   "metadata": {},
   "outputs": [],
   "source": [
    "#Set up the input\n",
    "feco = gto.M(atom='''\n",
    "            Fe 0.00, 0.00, 0.00\n",
    "            C  0.00, 0.00, 1.70\n",
    "            O  0.00, 0.00, 2.90''', basis='cc-pVDZ')\n",
    "feco.build()"
   ]
  },
  {
   "cell_type": "code",
   "execution_count": null,
   "metadata": {},
   "outputs": [],
   "source": [
    "#run the HF calculation to check the input\n",
    "hf_feco = scf.UHF(feco).run()"
   ]
  },
  {
   "cell_type": "code",
   "execution_count": null,
   "metadata": {},
   "outputs": [],
   "source": [
    "#the default is singlet, check the spin state\n",
    "feco.pack()"
   ]
  },
  {
   "cell_type": "code",
   "execution_count": null,
   "metadata": {},
   "outputs": [],
   "source": [
    "feco_3 = feco.copy()\n",
    "feco_3.spin = 2 #this is 2S -> alpha_electrons - beta_electrons; we have two more alpha than beta"
   ]
  },
  {
   "cell_type": "code",
   "execution_count": null,
   "metadata": {},
   "outputs": [],
   "source": [
    "#hf_feco_3 = scf.UHF(feco_3).run()\n",
    "hf_feco_3 = scf.UHF(feco_3).run(max_cycle=100)"
   ]
  },
  {
   "cell_type": "code",
   "execution_count": null,
   "metadata": {},
   "outputs": [],
   "source": [
    "#optimize the geometry\n",
    "from pyscf.geomopt.berny_solver import optimize\n",
    "opt_feco_3 = optimize(hf_feco_3)"
   ]
  },
  {
   "cell_type": "code",
   "execution_count": null,
   "metadata": {},
   "outputs": [],
   "source": [
    "#the optimized coordinates\n",
    "opt_coords = opt_feco_3.atom_coords()\n",
    "print(opt_coords)"
   ]
  },
  {
   "cell_type": "code",
   "execution_count": null,
   "metadata": {},
   "outputs": [],
   "source": [
    "#compare to experimental bond lengths\n",
    "print('Fe-C distance: {:3.5f} a0'.format(abs(opt_coords[0,2]-opt_coords[1,2])))\n",
    "print('C-O distance: {:3.5f} a0'.format(abs(opt_coords[1,2]-opt_coords[2,2])))\n",
    "print('Experimental: Fe-C distance: {:3.5f} a0'.format(1.727/bohr2ang))\n",
    "print('Experimental: C-O distance: {:3.5f} a0'.format(1.1586/bohr2ang))"
   ]
  },
  {
   "cell_type": "code",
   "execution_count": null,
   "metadata": {},
   "outputs": [],
   "source": [
    "opt_feco_3.pack()\n",
    "opt_feco_3.build()"
   ]
  },
  {
   "cell_type": "code",
   "execution_count": null,
   "metadata": {},
   "outputs": [],
   "source": [
    "#final total energy\n",
    "LS = scf.UHF(opt_feco_3)\n",
    "LS.max_cycle=200\n",
    "LS.init_guess = 'huckel'\n",
    "ELS = LS.kernel()\n",
    "#get the quintet energy at the triplet geometry\n",
    "feco_5 = opt_feco_3.copy()\n",
    "feco_5.spin = 4 \n",
    "feco_5.build()\n",
    "HS = scf.UHF(feco_5)\n",
    "HS.max_cycle=200\n",
    "HS.init_guess = 'huckel'\n",
    "EHS = HS.kernel()"
   ]
  },
  {
   "cell_type": "code",
   "execution_count": null,
   "metadata": {},
   "outputs": [],
   "source": [
    "print('LS-HS energy difference: {}Eh, {}eV {}cm-1'.format(ELS-EHS,(ELS-EHS)*27.2,(ELS-EHS)*27.2*8065.6))"
   ]
  },
  {
   "cell_type": "markdown",
   "metadata": {},
   "source": [
    "The experimental energy difference, including ZPE differences is 1135 cm-1. The pure electronic energy difference is about 450-500 cm$^{-1}$ with the LS the lower-lying state. UHF clearly favors the HS state due to the correct description of exchange but incorrect description of correlation in this mean-field approach.\n",
    "\n",
    "We will now try this with a DFT approach. The DFT functionals that are available are listed here:\n",
    "https://sunqm.github.io/pyscf/_modules/pyscf/dft/libxc.html"
   ]
  },
  {
   "cell_type": "code",
   "execution_count": null,
   "metadata": {},
   "outputs": [],
   "source": [
    "from pyscf import dft\n",
    "\n",
    "fecoDFT_3 = opt_feco_3.copy()\n",
    "fecoDFT_3.build()\n",
    "fecoDFT_3 = dft.ROKS(fecoDFT_3)\n",
    "fecoDFT_3.xc = 'tpss0'\n",
    "#fecoDFT_3.xc = 'b3lyp'\n",
    "fecoDFT_3.verbose=4\n",
    "fecoDFT_3.max_cycle=200\n",
    "#fecoDFT_3.init_guess='hcore'\n",
    "fecoDFT_3.init_guess='huckel'\n",
    "print(fecoDFT_3.kernel())"
   ]
  },
  {
   "cell_type": "code",
   "execution_count": null,
   "metadata": {},
   "outputs": [],
   "source": [
    "fecoDFT_3.xc = 'b3lyp'\n",
    "opt_feco_3 = optimize(fecoDFT_3)"
   ]
  },
  {
   "cell_type": "code",
   "execution_count": null,
   "metadata": {},
   "outputs": [],
   "source": [
    "#print the final coordinates\n",
    "opt_coords = opt_feco_3.atom_coords()\n",
    "print(opt_coords)\n",
    "#compare to experimental bond lengths\n",
    "print('Fe-C distance: {:3.5f} a0'.format(abs(opt_coords[0,2]-opt_coords[1,2])))\n",
    "print('C-O distance: {:3.5f} a0'.format(abs(opt_coords[1,2]-opt_coords[2,2])))\n",
    "print('Experimental: Fe-C distance: {:3.5f} a0'.format(1.727/bohr2ang))\n",
    "print('Experimental: C-O distance: {:3.5f} a0'.format(1.1586/bohr2ang))\n",
    "\n",
    "fecoDFT_3 = opt_feco_3.copy()\n",
    "fecoDFT_3.build()\n",
    "fecoDFT_3 = dft.ROKS(fecoDFT_3)\n",
    "fecoDFT_3.xc = 'tpss0'\n",
    "#fecoDFT_3.xc = 'b3lyp'\n",
    "fecoDFT_3.verbose=4\n",
    "fecoDFT_3.max_cycle=200\n",
    "#fecoDFT_3.init_guess='hcore'\n",
    "fecoDFT_3.init_guess='huckel'\n",
    "ELS = fecoDFT_3.kernel()"
   ]
  },
  {
   "cell_type": "code",
   "execution_count": null,
   "metadata": {},
   "outputs": [],
   "source": [
    "fecoDFT_5 = opt_feco_3.copy()\n",
    "fecoDFT_5.spin = 4\n",
    "fecoDFT_5.build()\n",
    "fecoDFT_5 = dft.ROKS(fecoDFT_5)\n",
    "fecoDFT_5.xc = 'tpss0'\n",
    "#fecoDFT_3.xc = 'b3lyp'\n",
    "fecoDFT_5.verbose=4\n",
    "fecoDFT_5.max_cycle=200\n",
    "#fecoDFT_3.init_guess='hcore'\n",
    "fecoDFT_5.init_guess='huckel'\n",
    "EHS = fecoDFT_5.kernel()"
   ]
  },
  {
   "cell_type": "code",
   "execution_count": null,
   "metadata": {},
   "outputs": [],
   "source": [
    "print('LS-HS energy difference: {} Eh, {} eV, {} cm-1'.format(ELS-EHS,(ELS-EHS)*27.2,(ELS-EHS)*27.2*8065.6))"
   ]
  },
  {
   "cell_type": "code",
   "execution_count": null,
   "metadata": {},
   "outputs": [],
   "source": [
    "#We can also compute vibrational frequencies\n",
    "hess = mol.Hessian().kernel()\n",
    "print(hess)"
   ]
  },
  {
   "cell_type": "code",
   "execution_count": null,
   "metadata": {},
   "outputs": [],
   "source": [
    "from pyscf.hessian import thermo\n",
    "freq_info = thermo.harmonic_analysis(fecoDFT_3.mol, hess)\n",
    "print(freq_info['freq_wavenumber'])\n",
    "print(freq_info)"
   ]
  },
  {
   "cell_type": "markdown",
   "metadata": {},
   "source": [
    "# Task 1\n",
    "\n",
    "Locate the experimental geometry of formaldehyde, H$_2$CO, on the CCCBDB database:\\\n",
    "https://cccbdb.nist.gov/exp1x.asp\n",
    "\n",
    "Calculate the total energy using the\n",
    "1. cc-pVDZ,\n",
    "2. cc-pVTZ,\n",
    "3. cc-pVQZ,\n",
    "4. aug-cc-pVDZ,\n",
    "5. aug-cc-pVTZ,\n",
    "6. aug-cc-pVQZ\n",
    "\n",
    "basis sets and the HF, MP2 and DFT (B3LYP) methods. Plot the total energy for the different basis sets for each of the three methods, and upload this plot to moodle. Check that your result is consistent with your expectations for the results.\n",
    "\n",
    "# Task 2\n",
    "Perform a frequency analysis using B3LYP/cc-pVTZ for H$_2$CO. Obtain the peak intensities $I$ from the CCCBDB database. Generate a plot of the spectrum using Lorentzian broadening of the peaks with a width $\\Gamma$ of your choice:\n",
    "\\begin{align}\n",
    "L(\\omega-\\omega_0) = I \\cdot \\frac{\\Gamma}{(\\omega-\\omega_0)+\\Gamma^2} \n",
    "\\end{align}\n",
    "\n",
    "Generate a spectrum of the experimental frequencies from CCCBDB and compare. Upload your plots to moodle.\n",
    "\n"
   ]
  },
  {
   "cell_type": "markdown",
   "metadata": {},
   "source": [
    "# Psi4\n",
    "\n",
    "--- with contributions from Lucas E. Aebersold ---\n",
    "\n",
    "See http://psicode.org/psi4manual/master/index.html\n",
    "\n",
    "Psi4 can be run directly or using the API. An API is an Application Program Interface and basically communicates your ipython commands to the Psi4 program which is written in C++. You will learn about other APIs when we look at machine learning. You first need to install the program; the route that worked best for me was\n",
    "\n",
    "`conda create -n p4env python=3.7 psi4 psi4-rt -c psi4/label/dev -c psi4` \n",
    "\n",
    "This will generate a specific conda environment for Psi4 as it heavily relies on specific versions of some modules (i.e., numpy). To run Psi4, you first need to activate the environment in the terminal you started jupyter from:\n",
    "\n",
    "`conda activate p4env`\n",
    "\n",
    "Most likely you need to install a few additional libraries into that environment for the API to work with jupyter\n",
    "\n",
    "`conda install --yes matplotlib`\\\n",
    "`conda install --yes ipykernel`\\\n",
    "`python -m ipykernel install --user --name p4env`\n",
    "\n",
    "To check if the `p4env` is available to jupyter, execute\n",
    "\n",
    "`jupyter kernelspec list`\n",
    "\n",
    "and you should see the python3 and p4env kernels.\n"
   ]
  },
  {
   "cell_type": "code",
   "execution_count": null,
   "metadata": {},
   "outputs": [],
   "source": [
    "import psi4\n",
    "from numpy import *\n",
    "import os, sys\n",
    "from scipy.linalg import eigh, eig, inv\n",
    "from scipy.constants import physical_constants\n",
    "au2eV = physical_constants['Hartree energy in eV'][0]\n",
    "bohr2ang = physical_constants['Bohr radius'][0]*1e10"
   ]
  },
  {
   "cell_type": "markdown",
   "metadata": {
    "collapsed": true
   },
   "source": [
    "If you wish to redirect the output to a file, use psi4.core.set_output_file('output.dat', False) where you replace the filename (and directory) as you wish. Otherwise, everything is printed to the screen as we will use here."
   ]
  },
  {
   "cell_type": "code",
   "execution_count": null,
   "metadata": {},
   "outputs": [],
   "source": [
    "#! Sample HF/cc-pVDZ H2O Computation\n",
    "\n",
    "psi4.set_memory('500 MB')\n",
    "\n",
    "#this builds the molecule - here using a z-matrix, but you may also use xyz coordinates\n",
    "h2o = psi4.geometry(\"\"\"\n",
    "O\n",
    "H 1 0.96\n",
    "H 1 0.96 2 104.5\n",
    "\"\"\")\n",
    "\n",
    "#perform a HF calculation with the cc-pVDZ basis set\n",
    "EHF = psi4.energy('scf/cc-pvdz')\n",
    "print('EHF is {} Eh'.format(EHF))"
   ]
  },
  {
   "cell_type": "code",
   "execution_count": null,
   "metadata": {},
   "outputs": [],
   "source": [
    "psi4.set_options({'reference': 'rhf','basis': 'cc-pvdz'})\n",
    "scf_e, scf_wfn = psi4.energy('SCF', return_wfn=True)\n",
    "print(asarray(scf_wfn.molecule().geometry()))"
   ]
  },
  {
   "cell_type": "code",
   "execution_count": null,
   "metadata": {},
   "outputs": [],
   "source": [
    "print(scf_e,EHF)"
   ]
  },
  {
   "cell_type": "code",
   "execution_count": null,
   "metadata": {},
   "outputs": [],
   "source": [
    "psi4.optimize('scf/cc-pvdz', molecule=h2o)"
   ]
  },
  {
   "cell_type": "code",
   "execution_count": null,
   "metadata": {},
   "outputs": [],
   "source": [
    "#print geometry - the optimized geometry is automatically updated\n",
    "print(asarray(scf_wfn.molecule().geometry()))"
   ]
  },
  {
   "cell_type": "code",
   "execution_count": null,
   "metadata": {},
   "outputs": [],
   "source": [
    "#frequency analysis\n",
    "scf_e, scf_wfn = psi4.frequency('scf/cc-pvdz', molecule=h2o, return_wfn=True)"
   ]
  },
  {
   "cell_type": "code",
   "execution_count": null,
   "metadata": {},
   "outputs": [],
   "source": [
    "h2o_freqs = scf_wfn.frequencies().to_array() \n",
    "print(h2o_freqs)"
   ]
  },
  {
   "cell_type": "code",
   "execution_count": null,
   "metadata": {},
   "outputs": [],
   "source": [
    "#let's try a CI calculation on this\n",
    "ECISD,wfn = psi4.energy('cisd',return_wfn=True)\n",
    "ECISDT,wfn = psi4.energy('cisdt',return_wfn=True)"
   ]
  },
  {
   "cell_type": "code",
   "execution_count": null,
   "metadata": {},
   "outputs": [],
   "source": [
    "#ECISDT = psi4.energy('cisdt')\n",
    "print('ECISD is {} Eh and ECISDT is {} Eh'.format(ECISD,ECISDT))"
   ]
  },
  {
   "cell_type": "markdown",
   "metadata": {},
   "source": [
    "Below you can find an example of how to use Psi4 in your own SCF program, using a DIIS solver:"
   ]
  },
  {
   "cell_type": "code",
   "execution_count": null,
   "metadata": {},
   "outputs": [],
   "source": [
    "def diag_F(F, norb):\n",
    "    Fp = dot(A, dot(F, A))\n",
    "    e, Cp = linalg.eigh(Fp)\n",
    "    C = dot(A, Cp)\n",
    "    C_occ = C[:, :norb]\n",
    "    P = einsum('pi,qi->pq', C_occ, C_occ)\n",
    "    return (C, P, e)\n",
    "def formG(P):\n",
    "    J = einsum('pqrs,rs->pq', Vee, P, optimize=True)\n",
    "    K = einsum('prqs,rs->pq', Vee, P, optimize=True)\n",
    "    G = 2*J - K\n",
    "    return G\n",
    "def diis_xtrap(F_list, diis_resid):\n",
    "\n",
    "    B_dim = len(F_list) + 1\n",
    "    B = empty((B_dim, B_dim))\n",
    "    B[-1, :] = -1\n",
    "    B[ :,-1] = -1\n",
    "    B[-1,-1] = 0\n",
    "    for i in range(len(F_list)):\n",
    "        for j in range(len(F_list)):\n",
    "            B[i,j] = sum(diis_resid[i]*diis_resid[j])\n",
    "\n",
    "    rhs = zeros((B_dim))\n",
    "    rhs[-1] = -1\n",
    "\n",
    "    coeff = linalg.solve(B, rhs)\n",
    "\n",
    "    F_diis = zeros_like(F_list[0])\n",
    "    for ix in range(coeff.shape[0] - 1):\n",
    "        F_diis += coeff[ix]*F_list[ix]\n",
    "\n",
    "    return F_diis"
   ]
  },
  {
   "cell_type": "code",
   "execution_count": null,
   "metadata": {},
   "outputs": [],
   "source": [
    "bond_dist = 1.4632*bohr2ang\n",
    "cmpd = 'HeH'\n",
    "# here is how we define the geometry\n",
    "mol = psi4.geometry(\"\"\"\n",
    "        He \n",
    "        H 1 {: .5f}\n",
    "        \"\"\".format(bond_dist))\n",
    "\n",
    "# set charge to positive 1\n",
    "#mol.set_molecular_charge(0)\n",
    "mol.set_molecular_charge(1)\n",
    "mol.set_multiplicity(1)\n",
    "\n",
    "#the_basis = '6-31g'\n",
    "#the_basis = 'sto-3g'\n",
    "#the_basis = 'cc-pvdz'\n",
    "the_basis = '6-31G**'\n",
    "# set our calculation options\n",
    "\n",
    "psi4.set_options({'guess':'core',\n",
    "    'basis':'{}'.format(the_basis),\n",
    "    'e_convergence':1e-8,\n",
    "    'scf_type':'pk',\n",
    "    'reference':'rohf'\n",
    "    })\n",
    "\n",
    "\n",
    "# our guess is the core guess, -> can also be sad (superposition of atomic densities)\n",
    "# scf_type -> ERI algorithm, pk is default\n",
    "# reference -> rhf, uhf, and maybe rohf\n",
    "\n",
    "# compute static 1e- and 2e- quantities in Psi4\n",
    "# Class initialization\n",
    "\n",
    "wfn = psi4.core.Wavefunction.build(mol,psi4.core.get_global_option('basis'))\n",
    "# mints is the integral helper\n",
    "mints = psi4.core.MintsHelper(wfn.basisset())\n",
    "\n",
    "# the Smat is the atomic orbital overlap\n",
    "Smat = asarray(mints.ao_overlap()) \n",
    "# number of basis functions, alpha orbitals -> rhf so just call alpha\n",
    "#nbf = Smat.shape[0]\n",
    "nbf = wfn.nso()\n",
    "ndocc = wfn.nalpha() \n",
    "\n",
    "# Build core Hamiltonian\n",
    "Tmat = asarray(mints.ao_kinetic())\n",
    "Vmat = asarray(mints.ao_potential())\n",
    "Hmat = Tmat + Vmat\n",
    "\n",
    "# build the nasty two-electron repulsion integral\n",
    "Vee = asarray(mints.ao_eri())\n",
    "\n",
    "# Construct AO orthogonalization matrix A\n",
    "# this is the Psi4 way, which is for symmetric orthog\n",
    "# A = mints.ao_overlap()\n",
    "# A.power(-0.5, 1.0e-16)\n",
    "# A = asarray(A)\n",
    "\n",
    "# get nuclear repulsion energy from Psi4\n",
    "E_nuc = mol.nuclear_repulsion_energy() \n",
    "print(E_nuc)\n",
    "\n",
    "# symmetryic ortho\n",
    "# we'll keep our way in here, it works the same\n",
    "u, V = eigh(Smat)\n",
    "U = sqrt(inv(u*eye(len(u))))\n",
    "A = dot(V, dot(U, V.T))\n",
    "\n",
    "# maximum scf iterations\n",
    "maxiter = 40\n",
    "\n",
    "# energy convergence criterion\n",
    "E_conv = 1.0e-6\n",
    "D_conv = 1.0e-4\n",
    "\n",
    "# pre-iteration step\n",
    "# scf & previous energy\n",
    "SCF_E = 0.0\n",
    "E_old = 0.0\n",
    "# form core guess\n",
    "C, P, epsilon = diag_F(Hmat, ndocc)\n",
    "print(epsilon)\n",
    "\n",
    "# trial and resiual vector lists\n",
    "F_list = []\n",
    "R_list = []\n",
    "diis_resid = []\n",
    "\n",
    "print('Number of occupied orbitals {}'.format(ndocc))\n",
    "print('Number of basis functions {}'.format(nbf))\n",
    "\n",
    "print('==> Starting SCF Iterations <==\\n')\n",
    "\n",
    "# comment in to write initial wavefunction\n",
    "# f = open('init_wfn.dat', 'w')\n",
    "# for i in \n",
    "#     for j in \n",
    "#             C[i,j]\n",
    "# f.close()\n",
    "\n",
    "for scf_iter in range(maxiter):\n",
    "    # Build the Fock matrix\n",
    "    # We will build the G matrix in a slightly different way, using\n",
    "    # the einsum function\n",
    "    F = Hmat + formG(P)\n",
    "\n",
    "    # for the diis\n",
    "    # A * (F*P*S - S*P*F) * A\n",
    "    M = dot(F, dot(P, Smat)) - dot(Smat, dot(P, F))\n",
    "    # here \n",
    "#   diis_r = dot(A, dot(M, A))\n",
    "    diis_r = dot(A.T, dot(M, A))\n",
    "\n",
    "    F_list.append(F)\n",
    "    R_list.append(diis_r)\n",
    "\n",
    "    SCF_E = sum(P*(Hmat + F)) + E_nuc\n",
    "\n",
    "    dE = SCF_E - E_old\n",
    "\n",
    "    dRMS = mean(diis_r**2)**0.5\n",
    "    print('SCF Iteration {:3d}: Energy = {: 4.16f} dE = {: 1.5e} dRMS = {:1.5e}'.format(scf_iter+1, SCF_E, dE, dRMS))\n",
    "\n",
    "    if (abs(dE) < E_conv) and (dRMS < D_conv):\n",
    "        break\n",
    "    E_old = SCF_E\n",
    "\n",
    "    if scf_iter >= 2:\n",
    "        F = diis_xtrap(F_list, R_list)\n",
    "\n",
    "    C, P, epsilon = diag_F(F, ndocc)\n",
    "\n",
    "    if scf_iter == maxiter:\n",
    "        psi4.core.clean()\n",
    "        raise Exception(\"Maximum number of SCF iterations exceeded.\")\n",
    "\n",
    "print('\\nSCF Converged.')\n",
    "print('Final RHF Energy: {: .8f} [Eh]'.format(SCF_E))\n",
    "\n",
    "# print the final wavefunction\n",
    "# f = open('final_wfn.dat', 'w')\n",
    "# for i in range(C.shape[0]):\n",
    "#     for j in range(C.shape[1]):\n",
    "#         print('{: 23.15f}'.format(C[i,j]), file=f)\n",
    "# f.close()\n",
    "\n",
    "SCF_E_psi, wfn = psi4.energy('SCF', return_wfn=True)\n",
    "\n",
    "psi4.compare_values(SCF_E_psi, SCF_E, 6, 'SCF Energy')\n",
    "\n",
    "# remove any molden file with our compoudns name if it exists\n",
    "os.system('rm -f {}.rhf.molden'.format(cmpd))\n",
    "# create new molden file\n",
    "psi4.molden(wfn, '{}.rhf.molden'.format(cmpd))\n",
    "\n",
    "# uncomment for FCI energy\n",
    "FCI_E_psi = psi4.energy('FCI')\n",
    "print(FCI_E_psi)"
   ]
  },
  {
   "cell_type": "markdown",
   "metadata": {},
   "source": [
    "# Optional task\n",
    "\n",
    "Calculate CISD energies for the basis sets in Task 1 and add these to your energy vs. basis plot."
   ]
  },
  {
   "cell_type": "code",
   "execution_count": null,
   "metadata": {},
   "outputs": [],
   "source": []
  }
 ],
 "metadata": {
  "kernelspec": {
   "display_name": "p4env",
   "language": "python",
   "name": "p4env"
  },
  "language_info": {
   "codemirror_mode": {
    "name": "ipython",
    "version": 3
   },
   "file_extension": ".py",
   "mimetype": "text/x-python",
   "name": "python",
   "nbconvert_exporter": "python",
   "pygments_lexer": "ipython3",
   "version": "3.7.6"
  }
 },
 "nbformat": 4,
 "nbformat_minor": 4
}
