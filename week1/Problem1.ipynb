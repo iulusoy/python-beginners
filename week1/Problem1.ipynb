{
 "cells": [
  {
   "cell_type": "markdown",
   "metadata": {},
   "source": [
    "Inga Ulusoy, Computational modelling in python, SoSe2020 "
   ]
  },
  {
   "cell_type": "code",
   "execution_count": null,
   "metadata": {},
   "outputs": [],
   "source": [
    "#import the libraries that are needed\n",
    "from math import *\n",
    "from numpy import *\n",
    "import matplotlib.pyplot as plt"
   ]
  },
  {
   "cell_type": "code",
   "execution_count": null,
   "metadata": {},
   "outputs": [],
   "source": [
    "#this is a function that, when called, will return the area and circumference of a circle\n",
    "#it requires a vector (1-D array) of radii as input variable and will return two 1-D arrays\n",
    "def area_circ(r):\n",
    "    a = zeros(len(r))\n",
    "    c = zeros(len(r))\n",
    "    for i,myr in enumerate(r):\n",
    "        a[i] = pi * myr ** 2\n",
    "        c[i] = 2.0 * pi * myr\n",
    "    return a, c"
   ]
  },
  {
   "cell_type": "code",
   "execution_count": null,
   "metadata": {},
   "outputs": [],
   "source": [
    "#this generates a set of values for the radius on a grid\n",
    "radius = arange(2,10,0.1)\n",
    "#this computes the corresponding area and circumference for each radius\n",
    "area, circ = area_circ(radius)"
   ]
  },
  {
   "cell_type": "code",
   "execution_count": null,
   "metadata": {},
   "outputs": [],
   "source": [
    "#this plots the result\n",
    "mf=18\n",
    "fig, ax = plt.subplots(figsize=(8,5))\n",
    "ax.plot(radius,area,marker='x',label='area')\n",
    "ax.plot(radius,circ,marker='o',label='circumference')\n",
    "ax.xaxis.set_tick_params(labelsize=mf)\n",
    "ax.yaxis.set_tick_params(labelsize=mf)\n",
    "ax.set_xlabel('radius',fontsize=mf)\n",
    "ax.set_ylabel('area/circumference',fontsize=mf)    \n",
    "legend = ax.legend(loc='best', shadow=False,fontsize=mf,borderpad = 0.1, labelspacing = 0, handlelength = 0.8)\n",
    "#always use plt.show() to prompt output of the figure\n",
    "plt.show()"
   ]
  },
  {
   "cell_type": "markdown",
   "metadata": {},
   "source": [
    "# Problem 1: The square\n",
    "\n",
    "You have several square samples of different sizes and would like to know the area and the perimeter of the samples.\n",
    "\n",
    "Generate a python script (in particular, jupyter notebook) to solve your problem and visualize your result. Use the above example as a basis. Put in comments as appropriate.\n",
    "\n",
    "Please highlight which of your steps is connected to which phase in a computer solving workflow as there is:\n",
    "\n",
    "1. Problem definition\n",
    "2. Model specification (parameters, constraints)\n",
    "3. Mathematical Model\n",
    "4. Implementation\n",
    "5. Verification\n",
    "6. Validation\n",
    "\n",
    "Please upload your notebook to Moodle."
   ]
  },
  {
   "cell_type": "code",
   "execution_count": null,
   "metadata": {},
   "outputs": [],
   "source": []
  }
 ],
 "metadata": {
  "kernelspec": {
   "display_name": "Python 3",
   "language": "python",
   "name": "python3"
  },
  "language_info": {
   "codemirror_mode": {
    "name": "ipython",
    "version": 3
   },
   "file_extension": ".py",
   "mimetype": "text/x-python",
   "name": "python",
   "nbconvert_exporter": "python",
   "pygments_lexer": "ipython3",
   "version": "3.7.6"
  }
 },
 "nbformat": 4,
 "nbformat_minor": 2
}
