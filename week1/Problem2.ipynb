{
 "cells": [
  {
   "cell_type": "markdown",
   "metadata": {},
   "source": [
    "Inga Ulusoy, Computational modelling in python, SoSe2020 \n",
    "\n",
    "# Some fundamentals\n",
    "\n",
    "All data in a program consists of data items. In python, all those data items are data objects -- with the attributes\n",
    "\n",
    "1. Identity: Location of the data object in memory, i.e. its physical address\n",
    "2. Type: Defines which operations are allowed with the data object\n",
    "3. Value: The value of the data object which can be changed (mutable) or not (immutable)"
   ]
  },
  {
   "cell_type": "code",
   "execution_count": null,
   "metadata": {},
   "outputs": [],
   "source": [
    "myval = 0"
   ]
  },
  {
   "cell_type": "code",
   "execution_count": null,
   "metadata": {},
   "outputs": [],
   "source": [
    "myval2 = myval"
   ]
  },
  {
   "cell_type": "markdown",
   "metadata": {},
   "source": [
    "Both objects point to the same address."
   ]
  },
  {
   "cell_type": "code",
   "execution_count": null,
   "metadata": {},
   "outputs": [],
   "source": [
    "myval = 7 "
   ]
  },
  {
   "cell_type": "markdown",
   "metadata": {},
   "source": [
    "The value of the data object has changed and with that, its physical address. Myval2 still points to its original assigned value."
   ]
  },
  {
   "cell_type": "code",
   "execution_count": null,
   "metadata": {},
   "outputs": [],
   "source": [
    "type(myval)"
   ]
  },
  {
   "cell_type": "markdown",
   "metadata": {},
   "source": [
    "Myval is an integer."
   ]
  },
  {
   "cell_type": "code",
   "execution_count": null,
   "metadata": {},
   "outputs": [],
   "source": [
    "myval3=7.0"
   ]
  },
  {
   "cell_type": "markdown",
   "metadata": {},
   "source": [
    "Myval3 is a floating-point number."
   ]
  },
  {
   "cell_type": "code",
   "execution_count": null,
   "metadata": {},
   "outputs": [],
   "source": [
    "myval4 = 0.5+1.5j"
   ]
  },
  {
   "cell_type": "markdown",
   "metadata": {},
   "source": [
    "Myval4 is a complex number."
   ]
  },
  {
   "cell_type": "code",
   "execution_count": null,
   "metadata": {},
   "outputs": [],
   "source": [
    "myval5=True"
   ]
  },
  {
   "cell_type": "markdown",
   "metadata": {},
   "source": [
    "A logical variable is called a Boolean and can only take one of two possible values."
   ]
  },
  {
   "cell_type": "code",
   "execution_count": null,
   "metadata": {},
   "outputs": [],
   "source": [
    "myval6='Hello world'"
   ]
  },
  {
   "cell_type": "markdown",
   "metadata": {},
   "source": [
    "Variables containing text are strings."
   ]
  },
  {
   "cell_type": "markdown",
   "metadata": {},
   "source": [
    "# Basic input and output\n",
    "\n",
    "Variables can directly be printed out using the print() statement. Format() provides an easy way to format the output."
   ]
  },
  {
   "cell_type": "code",
   "execution_count": null,
   "metadata": {},
   "outputs": [],
   "source": [
    "print(myval6)\n",
    "print('I just meant to say',myval6)\n",
    "print(myval,myval2,myval3)\n",
    "print('First variable',myval,'second variable',myval2,'and third variable',myval3)\n",
    "print(f'The value of myval3 is approximately {myval:.3f}.')\n",
    "print('The value of myval3 is approximately {:.3f}.'.format(myval3))\n",
    "print('The value of myval3 is approximately {:.3e}.'.format(myval3))\n",
    "print('First variable {:1d}, second variable {:03d}, and third variable {:3.8f}'.format(myval,myval2,myval3))"
   ]
  },
  {
   "cell_type": "markdown",
   "metadata": {},
   "source": [
    "They can also be printed out to a file that will be placed relative to the directory where jupyter is running. Please note the slightly different syntax, here the variables and strings are first concatenated into a new string that is then written to the file."
   ]
  },
  {
   "cell_type": "code",
   "execution_count": null,
   "metadata": {},
   "outputs": [],
   "source": []
  },
  {
   "cell_type": "markdown",
   "metadata": {},
   "source": [
    "Variables can also be read in from a file. For this, please place the file \"data.dat\" in your directory.\n",
    "\n",
    "The file contains the following lines\n",
    "\n",
    "|||\n",
    "| - | - |\n",
    "| 2.5     | 0.097  |\n",
    "| 5.0     | 0.195  |\n",
    "| 7.5     | 0.289  |\n",
    "| 10.0    | 0.387  |\n",
    "| 15.0    | 0.581  |\n",
    "| 20.0    | 0.775  |\n",
    "| 30.0    | 0.966  |\n",
    "\n",
    "Files can be read like this:"
   ]
  },
  {
   "cell_type": "code",
   "execution_count": null,
   "metadata": {},
   "outputs": [],
   "source": []
  },
  {
   "cell_type": "code",
   "execution_count": null,
   "metadata": {},
   "outputs": [],
   "source": []
  },
  {
   "cell_type": "markdown",
   "metadata": {},
   "source": [
    "There is also a more pythonic way to read a file: This ensures that the file is properly closed in the end and no need for the close() statement."
   ]
  },
  {
   "cell_type": "code",
   "execution_count": null,
   "metadata": {},
   "outputs": [],
   "source": []
  },
  {
   "cell_type": "markdown",
   "metadata": {},
   "source": [
    "This provides a very compact way of accessing a file."
   ]
  },
  {
   "cell_type": "markdown",
   "metadata": {},
   "source": [
    "# Linear regression\n",
    "\n",
    "Imagine you know only values of a function at specific points, and you would like to know to what extent these follow a linear behaviour, and what the linear coefficients are.\n",
    "\n",
    "## A simple example\n",
    "\n",
    "In linear regression, the functional form that describes the data is assumed to be linear of the type $y=mx+b$.\n",
    "\n",
    "We will use least-squares linear regression: The sum of the squares of the vertical deviations is given by $R^2$ (for a set of n data points):\n",
    "\\begin{align}\n",
    "R^2=\\sum_{i=1}^n [y_i-f(mx_i+b)]^2 = R^2(a,b)\n",
    "\\end{align}\n",
    "This value is minimized so that the condition reads\n",
    "\\begin{align}\n",
    "\\frac{\\partial R^2}{\\partial a}&=0\\\\ \n",
    "\\frac{\\partial R^2}{\\partial b}&=0\n",
    "\\end{align}\n",
    "resulting in \n",
    "\\begin{align}\n",
    "\\frac{\\partial R^2}{\\partial a}&=-2 \\sum_{i=1}^n [y_i-f(mx_i+b)] \\\\\n",
    "\\frac{\\partial R^2}{\\partial b}&=-2 \\sum_{i=1}^n [y_i-f(mx_i+b)] x_i\n",
    "\\end{align}\n",
    "or, reformulated\n",
    "\\begin{align}\n",
    "n a + b \\sum_{i=1}^n x_i\t&= \\sum_{i=1}^n y_i\t\\\\\n",
    "a \\sum_{i=1}^n x_i + b \\sum_{i=1}^n x_i^2 &= \\sum_{i=1}^n x_i y_i\n",
    "\\end{align}\n",
    "This can be expressed in matrix form\n",
    "\\begin{align}\n",
    "\\begin{pmatrix}\n",
    "n & \\sum_{i=1}^n x_i \\\\\n",
    "\\sum_{i=1}^n x_i & \\sum_{i=1}^n x_i^2\n",
    "\\end{pmatrix}\n",
    "\\begin{pmatrix}\n",
    "a \\\\\n",
    "b\n",
    "\\end{pmatrix} =\n",
    "\\begin{pmatrix}\n",
    "\\sum_{i=1}^n y_i\t\\\\\n",
    "\\sum_{i=1}^n x_i y_i\n",
    "\\end{pmatrix}\n",
    " \\end{align}\n",
    "and solved for $a$ and $b$.\n",
    "\n",
    "The data file \"data.out\" contains value pairs with the left column (x-values) corresponding to sample volume and the right column (y-values) detailing the measured extinction (light absorption) for each sample volume.\n"
   ]
  },
  {
   "cell_type": "code",
   "execution_count": null,
   "metadata": {},
   "outputs": [],
   "source": [
    "#initialize myx and myy as empty lists\n",
    "myx=[]\n",
    "myy=[]\n",
    "with open('data.dat') as f:\n",
    "    for line in f:\n",
    "        #every new item for x is converted to float and appended to the array myx\n",
    "        myx.append(float(line.split()[0]))\n",
    "        print(myx)\n",
    "        #every new item for y is converted to float and appended to the array myy\n",
    "        myy.append(float(line.split()[1]))\n",
    "# in the end we obtain one list filled with the x values and one with the y values\n",
    "print('x-values:',myx)\n",
    "print('y-values:',myy)\n",
    "#the values are now stored in two lists, myx and myy. \n",
    "#the elements in the list can be accessed as such:\n",
    "print('first list element has the index zero', myx[0])\n",
    "print('second list element has the index one', myx[1])\n",
    "print('first to third element can be accesses as such', myx[0:3], 'or as such',myx[:3])\n",
    "print('the last element is easiest like this', myx[-1])\n",
    "print('if I want to know how many elements I have in my list:',len(myx))\n",
    "#and I can loop over them:\n",
    "for i in range(len(myx)):\n",
    "    something = myx[i]\n",
    "    print(something)\n",
    "#or like this:\n",
    "for i in myx:\n",
    "    something = i\n",
    "    print(something)\n",
    "#both loops achieve the same in this case"
   ]
  },
  {
   "cell_type": "code",
   "execution_count": null,
   "metadata": {},
   "outputs": [],
   "source": [
    "#Now we can plot the values\n",
    "#use matplotlib\n",
    "import matplotlib.pyplot as plt\n",
    "fig, ax = plt.subplots(figsize=(8,5))\n",
    "#subplots returns a tuple that is unpacked into fig and ax here - ax is the object controlling the axes formatting,\n",
    "#and fig is useful for global figure attributes, for example, if you want to save the figure into a file\n",
    "#scatter plot (without a line)\n",
    "ax.scatter(myx,myy)\n",
    "ax.set_xlabel('x (Volume)',fontsize=18)\n",
    "ax.set_ylabel('y (Extinktion)',fontsize=18)\n",
    "plt.xticks(fontsize=18)\n",
    "plt.yticks(fontsize=18)\n",
    "\n",
    "#if you want, you can save the plot\n",
    "#plt.savefig('data.pdf',dpi=300,bbox_inches='tight')\n",
    "#display the plot - in jupyter not really required but it is cleaner\n",
    "plt.show()"
   ]
  },
  {
   "cell_type": "markdown",
   "metadata": {},
   "source": [
    "Now we can do the linear regression using the scipy library."
   ]
  },
  {
   "cell_type": "code",
   "execution_count": null,
   "metadata": {},
   "outputs": [],
   "source": [
    "from scipy import stats\n",
    "from math import *\n",
    "#call the linear regression function\n",
    "slope,intercept,r,p,std_err = stats.linregress(myx,myy)\n",
    "print('Slope m {:.3f}, intercept b {:3f}, Pearsons correlation coefficient r {:3f};'.format(slope,intercept,r))\n",
    "print('r^2 {:.3f}, standard error {:3f}'.format(r**2,std_err))"
   ]
  },
  {
   "cell_type": "code",
   "execution_count": null,
   "metadata": {},
   "outputs": [],
   "source": [
    "#Now we can plot the values together with the fit\n",
    "#myx is a list - and you cannot perform mathematical operations on lists\n",
    "#it has to be converted to an array first, for that we need numpy library\n",
    "from numpy import *\n",
    "mm=array(myx)\n",
    "\n",
    "fig, ax = plt.subplots(figsize=(8,5))\n",
    "ax.scatter(myx,myy,label='values')\n",
    "ax.plot(mm,slope*mm+intercept,label='fit')\n",
    "\n",
    "ax.set_xlabel('x (Volume)',fontsize=18)\n",
    "ax.set_ylabel('y (Extinktion)',fontsize=18)\n",
    "plt.xticks(fontsize=18)\n",
    "plt.yticks(fontsize=18)\n",
    "\n",
    "plt.savefig('data_regression.pdf',dpi=300,bbox_inches='tight')\n",
    "plt.show()"
   ]
  },
  {
   "cell_type": "markdown",
   "metadata": {},
   "source": [
    "# Problem 2: Good fit\n",
    "\n",
    "A linear behaviour of extinction vs concentration (volume) signifies validity of the Lambert-Beer law. The Lambert-Beer law is only valid for dilute solutions, which explains the deviation of the large-volume data points from linear behaviour. \n",
    "\n",
    "Please carry out the linear regression using fewer points to obtain a better fit. How many points should be used for a good fit? What is the error in comparison to a fit using all data points?"
   ]
  },
  {
   "cell_type": "code",
   "execution_count": null,
   "metadata": {},
   "outputs": [],
   "source": []
  }
 ],
 "metadata": {
  "kernelspec": {
   "display_name": "Python 3",
   "language": "python",
   "name": "python3"
  },
  "language_info": {
   "codemirror_mode": {
    "name": "ipython",
    "version": 3
   },
   "file_extension": ".py",
   "mimetype": "text/x-python",
   "name": "python",
   "nbconvert_exporter": "python",
   "pygments_lexer": "ipython3",
   "version": "3.7.6"
  }
 },
 "nbformat": 4,
 "nbformat_minor": 2
}
