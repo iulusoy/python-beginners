{
 "cells": [
  {
   "cell_type": "markdown",
   "metadata": {},
   "source": [
    "Inga Ulusoy, Computational modelling in python, SoSe2020 \n",
    "\n",
    "# Program structures\n",
    "\n",
    "The algorithm of a program consists of a set of steps, that are required to provide a solution to the targeted problem.\n",
    "\n",
    "An algorithm consists of several steps. There are usually different ways to implement an algorithm, the \"programming paradigm\". \n",
    "\n",
    "In the following, we will explore different ways of implementing a solution to a given problem: The area and circumference of a circle."
   ]
  },
  {
   "cell_type": "code",
   "execution_count": null,
   "metadata": {},
   "outputs": [],
   "source": [
    "from math import *\n",
    "from numpy import *"
   ]
  },
  {
   "cell_type": "markdown",
   "metadata": {},
   "source": [
    "## 1. A step-by-step instruction"
   ]
  },
  {
   "cell_type": "code",
   "execution_count": null,
   "metadata": {},
   "outputs": [],
   "source": [
    "r = float(input('Provide the radius r: '))\n",
    "area = pi * r ** 2\n",
    "circ = 2.0 * pi * r\n",
    "print('For the radius {:2.2f} the area is {:2.2f} and circumference is {:2.2f}.'.format(r,area,circ))"
   ]
  },
  {
   "cell_type": "markdown",
   "metadata": {},
   "source": [
    "Note that in this algorithm, r is directly assigned a value.\n",
    "\n",
    "## 2. An instruction through a function"
   ]
  },
  {
   "cell_type": "code",
   "execution_count": null,
   "metadata": {},
   "outputs": [],
   "source": [
    "def area_circ(r):\n",
    "    area = pi * r ** 2\n",
    "    circ = 2.0 * pi * r\n",
    "    print('For the radius {:2.2f} the area is {:2.2f} and circumference is {:2.2f}.'.format(r,area,circ))    \n",
    "    return\n",
    "\n",
    "area_circ(3.0)"
   ]
  },
  {
   "cell_type": "markdown",
   "metadata": {},
   "source": [
    "Note that in this algorithm, r is not assigned a particular value (memory address) through an equal sign. The function contains local variables.\n",
    "\n",
    "## 3. An instruction using objects"
   ]
  },
  {
   "cell_type": "code",
   "execution_count": null,
   "metadata": {},
   "outputs": [],
   "source": [
    "#working with classes\n",
    "class Circle:\n",
    "    #documentation string of the class\n",
    "    'Circle for computing circumference and area'\n",
    "    #create a new object or instance of the class\n",
    "    def __init__(self, ir):\n",
    "        self.radius = ir\n",
    "      \n",
    "    def setRadius(self, ir):\n",
    "        self.radius = ir\n",
    "      \n",
    "    def compCircum(self):\n",
    "        self.cir = 2.0 * pi * self.radius\n",
    "        return self.cir\n",
    "      \n",
    "    def compArea(self):\n",
    "        self.area = pi * self.radius * self.radius\n",
    "        return self.area\n",
    "\n",
    "    def getRadius(self):\n",
    "        return self.radius  \n",
    "\n",
    "#this generates an instance of the class\n",
    "mycirc=Circle(3.0)\n",
    "#evaluate the properties of the object\n",
    "r = mycirc.getRadius()\n",
    "print(r)\n",
    "area = mycirc.compArea()\n",
    "circ = mycirc.compCircum()\n",
    "print('For the radius {:2.2f} the area is {:2.2f} and circumference is {:2.2f}.'.format(r,area,circ))  "
   ]
  },
  {
   "cell_type": "markdown",
   "metadata": {},
   "source": [
    "### Classes in python:\n",
    "\n",
    "Classes are objects, and accessing a class creates a new instance of the object.\n",
    "\n",
    "Each class instance has properties: In the above example, the radius of the circle is a property of the class.\n",
    "\n",
    "Class instances can have methods: The computation of area and circumference are methods in the above example.\n",
    "\n",
    "<code>self</code> stands for the instance of the class inside the class definition (in the above example given by 'mycirc' - so outside it is 'mycirc', inside it is 'self').\n",
    "\n",
    "<code>\\_\\_init\\_\\_ </code> is a reserved method name in python and initializes the instance of a class. Each time the class is called, the object (its attributes) is initialized through init.\n",
    "\n",
    "Init is called with self (the instance) and the attributes that are initialized (in this example, ir, which is the input in the parenthesis when calling the class). This means, the class is called with one variable, ir, which is assigned to the class attribute radius. Let's look at a different example:"
   ]
  },
  {
   "cell_type": "code",
   "execution_count": null,
   "metadata": {},
   "outputs": [],
   "source": [
    "class pizza:\n",
    "    '''pizza class for computing cost of a pizza'''\n",
    "    def __init__(self, size, toppings):\n",
    "        self.radius = size/2\n",
    "        self.toppings = toppings\n",
    "        self.notops = len(self.toppings)\n",
    "\n",
    "    def getRadius(self):\n",
    "        return self.radius\n",
    "    \n",
    "    def getToppings(self):\n",
    "        return self.toppings, self.notops\n",
    "    \n",
    "    def getCost(self):\n",
    "        self.cost = self.radius*self.notops/5\n",
    "        return self.cost"
   ]
  },
  {
   "cell_type": "code",
   "execution_count": null,
   "metadata": {},
   "outputs": [],
   "source": [
    "diameter = 22\n",
    "toppings = ['Cheese','Tomato','Salami']\n",
    "mypizza = pizza(diameter,toppings)\n",
    "r = mypizza.getRadius()\n",
    "tops, notops = mypizza.getToppings()\n",
    "cost = mypizza.getCost()\n",
    "\n",
    "print('Pizza of radius {} with {} toppings - {} - costs {}.'.format(r,notops,tops,cost))"
   ]
  },
  {
   "cell_type": "markdown",
   "metadata": {},
   "source": [
    "# Task 2: \n",
    "\n",
    "Update your notebook for problem 1 - area and perimeter of a square - to reflect the three different types of programming - (i) using one direct sequence, (ii) using a function, (iii) using a class. \n",
    "\n",
    "What are advantages and disadvantages of the different structures?\n",
    "\n",
    "__Optional additional task (no requirement)__ \n",
    "Design your own class object for anything you like.\n",
    "\n",
    "Upload your notebook to moodle."
   ]
  },
  {
   "cell_type": "code",
   "execution_count": null,
   "metadata": {},
   "outputs": [],
   "source": []
  }
 ],
 "metadata": {
  "kernelspec": {
   "display_name": "Python 3",
   "language": "python",
   "name": "python3"
  },
  "language_info": {
   "codemirror_mode": {
    "name": "ipython",
    "version": 3
   },
   "file_extension": ".py",
   "mimetype": "text/x-python",
   "name": "python",
   "nbconvert_exporter": "python",
   "pygments_lexer": "ipython3",
   "version": "3.7.6"
  }
 },
 "nbformat": 4,
 "nbformat_minor": 4
}
