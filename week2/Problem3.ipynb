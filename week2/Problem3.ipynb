{
 "cells": [
  {
   "cell_type": "markdown",
   "metadata": {},
   "source": [
    "Inga Ulusoy, Computational modelling in python, SoSe2020 \n",
    "\n",
    "# Interpolation of functions\n",
    "\n",
    "Imagine you know only values of a function at specific points, but in fact you need values at arbitrary points in between. This is achieved through interpolation - the function is modeled by a plausible functional form. \n",
    "\n",
    "The interpolation process has two stages:\n",
    "1. Fit the interpolating function to reproduce the existing values.\n",
    "2. Evaluate the interpolating function at the target point.\n",
    "\n",
    "## 1. Read in the data"
   ]
  },
  {
   "cell_type": "code",
   "execution_count": null,
   "metadata": {},
   "outputs": [],
   "source": [
    "from math import *\n",
    "from numpy import *\n",
    "import matplotlib.pyplot as plt"
   ]
  },
  {
   "cell_type": "code",
   "execution_count": null,
   "metadata": {},
   "outputs": [],
   "source": [
    "nofuncs=4\n",
    "nopoints=4\n",
    "myval=zeros((nofuncs,nopoints))\n",
    "\n",
    "with open('data_problem3.dat') as f:\n",
    "    for line in f:\n",
    "        myline=line.split()\n",
    "        j=int(myline[0])-1\n",
    "        i=int(myline[1])-1\n",
    "        myval[i,j]=float(myline[2])\n",
    "        \n",
    "print(myval)"
   ]
  },
  {
   "cell_type": "code",
   "execution_count": null,
   "metadata": {},
   "outputs": [],
   "source": [
    "mf=16\n",
    "fig, ax = plt.subplots(figsize=(8,5))\n",
    "for i in range(nofuncs):\n",
    "    ax.plot(myval[i],marker='<',label='linear, f{}'.format(i+1))\n",
    "\n",
    "ax.set_xlabel('x point',fontsize=18)\n",
    "ax.set_ylabel('y value',fontsize=18)\n",
    "plt.xticks(fontsize=18)\n",
    "plt.yticks(fontsize=18)\n",
    "legend = ax.legend(loc='lower right', shadow=False,fontsize=mf,borderpad = 0.1, labelspacing = 0, handlelength = 0.8)\n",
    "#plt.savefig('problem3_linear.pdf',dpi=300,bbox_inches='tight')\n",
    "plt.show()"
   ]
  },
  {
   "cell_type": "markdown",
   "metadata": {},
   "source": [
    "## 2. Linear interpolation\n",
    "\n",
    "In linear interpolation, two neighboring points $x_j$ and $x_{j+1}$ are connected by a straight line, and the linear function between these two points provides the mapping for arbitrary points in the interval $[x_j,x_{j+1}]$.\n",
    "\\begin{align}\n",
    "f(x)=A f(x_j)+B f(x_{j+1})\n",
    "\\end{align}\n",
    "For $n$ points that are being interpolated, the overall function is $n-1$ piecewise linear, as shown in the plot above - each of the given points is connected to the next point by a straight line. Linear interpolation is a special case of polynomial interpolation.\n",
    "\n",
    "The coefficients are obtained as:\n",
    "\\begin{align}\n",
    "A & = \\frac{x_{j+1}-x}{x_{j+1}-x_j} \\\\\n",
    "B & = 1 - A = \\frac{x-x_j}{x_{j+1}-x_j}\n",
    "\\end{align}\n",
    "The coefficients $A$ and $B$ provide the weights of each data point, with the closer data point having a greater weight in the interpolation.\n",
    "\n",
    "We will now perform a linear interpolation for the four functions above, onto a finer mesh of 16 evenly spaced points, from the given four data points. The new points are computed according to\n",
    "\\begin{align}\n",
    "f(x) = f(x_j) + (x-x_j) \\frac{y_{j+1}-y_j}{x_{j+1}-x_j}\n",
    "\\end{align}\n",
    "\n",
    "*Note that there are many different ways to write and arrange these routines, we will start with a more simple and sequential syntax.*"
   ]
  },
  {
   "cell_type": "code",
   "execution_count": null,
   "metadata": {},
   "outputs": [],
   "source": [
    "nint=12\n",
    "xval=zeros((nofuncs,nint))\n",
    "linval=zeros((nofuncs,nint))\n",
    "#spacing between the new x values\n",
    "#we have nopoints-1 intervals that are equally divided into nint pieces\n",
    "dx = (nopoints-1)/nint\n",
    "print('The spacing between the interpolated points is',dx)\n",
    "#determine the x values for all four functions\n",
    "for j in range(nint):\n",
    "    xval[:,j]=j*dx\n",
    "#now compute the y values\n",
    "for i in range(nofuncs):\n",
    "    for j in range(nint):\n",
    "        #find out which interval we are in - in this case, we simply need the \n",
    "        #integer value of the grid point x\n",
    "        myj=int(xval[i,j])\n",
    "        myjplusone=myj+1\n",
    "        yj=myval[i,myj]\n",
    "        yjplusone=myval[i,myjplusone]\n",
    "        #now we can compute the new y value for the given x\n",
    "        linval[i,j] = yj + (xval[i,j]-myj) * (yjplusone-yj)/(myjplusone-myj)"
   ]
  },
  {
   "cell_type": "code",
   "execution_count": null,
   "metadata": {},
   "outputs": [],
   "source": [
    "prop_cycle = plt.rcParams['axes.prop_cycle']\n",
    "colors = prop_cycle.by_key()['color']\n",
    "\n",
    "fig, ax = plt.subplots(figsize=(8,5))\n",
    "for i in range(nofuncs):\n",
    "    ax.plot(xval[i],linval[i],marker='x',color=colors[i],label='linear, f{}'.format(i+1))\n",
    "    ax.plot(myval[i],marker='<',color=colors[i])\n",
    "\n",
    "ax.set_xlabel('x point',fontsize=18)\n",
    "ax.set_ylabel('y value',fontsize=18)\n",
    "plt.xticks(fontsize=18)\n",
    "plt.yticks(fontsize=18)\n",
    "legend = ax.legend(loc='lower right', shadow=False,fontsize=mf,borderpad = 0.1, labelspacing = 0, handlelength = 0.8)\n",
    "#plt.savefig('problem3_linear.pdf',dpi=300,bbox_inches='tight')\n",
    "plt.show()"
   ]
  },
  {
   "cell_type": "markdown",
   "metadata": {},
   "source": [
    "This can all be done much easier using the numpy library:"
   ]
  },
  {
   "cell_type": "code",
   "execution_count": null,
   "metadata": {},
   "outputs": [],
   "source": [
    "linvals2=zeros((nofuncs,nint))\n",
    "myxold=arange(0,nopoints)\n",
    "for i in range(nofuncs):\n",
    "    linvals2[i] = interp(xval[i], myxold, myval[i])"
   ]
  },
  {
   "cell_type": "code",
   "execution_count": null,
   "metadata": {},
   "outputs": [],
   "source": [
    "fig, ax = plt.subplots(figsize=(8,5))\n",
    "for i in range(nofuncs):\n",
    "    ax.plot(xval[i],linvals2[i],marker='x',color=colors[i],label='linear, f{}'.format(i+1))\n",
    "    ax.plot(myval[i],marker='<',color=colors[i])\n",
    "\n",
    "ax.set_xlabel('x point',fontsize=18)\n",
    "ax.set_ylabel('y value',fontsize=18)\n",
    "plt.xticks(fontsize=18)\n",
    "plt.yticks(fontsize=18)\n",
    "legend = ax.legend(loc='lower right', shadow=False,fontsize=mf,borderpad = 0.1, labelspacing = 0, handlelength = 0.8)\n",
    "#plt.savefig('problem3_linear.pdf',dpi=300,bbox_inches='tight')\n",
    "plt.show()"
   ]
  },
  {
   "cell_type": "markdown",
   "metadata": {},
   "source": [
    "__Note how easy this is using the library! Generally, we will employ available libraries from now on and not implement the numerical methods from scratch!!__"
   ]
  },
  {
   "cell_type": "markdown",
   "metadata": {},
   "source": [
    "A huge disadvantage of linear interpolation is that the derivatives are not continuous:"
   ]
  },
  {
   "cell_type": "code",
   "execution_count": null,
   "metadata": {},
   "outputs": [],
   "source": [
    "fig, ax = plt.subplots(figsize=(8,5))\n",
    "for i in range(nofuncs):\n",
    "    ax.plot(xval[i,0:(nint-1)],[linval[i,j+1]-linval[i,j] for j in range(nint-1)],marker='x',label='deriv, f{}'.format(i+1))\n",
    "    #ax.plot(myval[i],marker='<')\n",
    "\n",
    "ax.set_xlabel('x point',fontsize=18)\n",
    "ax.set_ylabel('y value',fontsize=18)\n",
    "plt.xticks(fontsize=18)\n",
    "plt.yticks(fontsize=18)\n",
    "plt.title('The first derivative is not smooth over the range of values.',fontsize=mf)\n",
    "legend = ax.legend(loc='lower right', shadow=False,fontsize=mf,borderpad = 0.1, labelspacing = 0, handlelength = 0.8)\n",
    "#plt.savefig('problem3_linear.pdf',dpi=300,bbox_inches='tight')\n",
    "plt.show()"
   ]
  },
  {
   "cell_type": "markdown",
   "metadata": {},
   "source": [
    "For continuous first and second derivatives, we need to resort to a different numerical approach.\n",
    "\n",
    "## Cubic spline interpolation\n",
    "\n",
    "With a cubic spline interpolation, smooth first derivatives and continuous second derivatives are obtained for each interpolated point.\n",
    "\n",
    "\n",
    "Another advantage is that, contrary to standard polynomial interpolation where an $(n-1)$-degree polynomial is fitted to $n$ data points, overfitting is avoided. (Overfitting occurs for example in polynomial interpolation when simple data is represented with an excessively complicated form, and manifests itself in an oscillatory behaviour of the fit.) \n",
    "\n",
    "This is achieved by fitting to a functional form of\n",
    "\\begin{align}\n",
    "f(x) = A f(x_j) +  B f (x_{j+1}) + C f''(x_j) + D f'' (x_{j+1})\n",
    "\\end{align}\n",
    "A natural cubic spline has zero value for $f''(x_0)$ and $f''(x_n)$ and is the most typical case.\n",
    "\n",
    "In this approach, each segment between two neighboring data points is represented by its own polynomial $P(x)$, resulting in a piecewise polynomial function $S(x)$ of $n-1$ polynomials (\"spline\"):\n",
    "\\begin{align}\n",
    "S(x) =\n",
    "\\left\\{\n",
    "\\begin{array}{cc}\n",
    "P_1(x) & x_0 \\le x \\le x_1 \\\\\n",
    "P_2(x) & x_1 \\le x \\le x_2\\\\\n",
    "\\vdots & \\\\\n",
    "P_n(x)  & x_{n-1} \\le x \\le x_n \\\\\n",
    "\\end{array}\n",
    "\\right.\n",
    "\\end{align}\n",
    "To obtain a continuous and smooth function $S(x)$ and derivatives, each consecutive polynomial $P_i(x)$ and $P_{i+1}(x)$ must have the same functional value and derivatives at the joining points $x_i$. In cubic spline interpolation, the polynomials $P_i(x)$ are cubic polynomials:\n",
    "\\begin{align}\n",
    "P_i(x)=a_i x^3 + b_i x^2 + c_i x + d_i\n",
    "\\end{align}\n",
    "Using the boundary conditions for a natural spline, the equations that are obtained for the coefficients are tridiagonal linear, where each polynomial is only coupled to its nearest neighbors:\n",
    "\n",
    "\\begin{align}\n",
    "\\left[\n",
    "\\begin{array}{7c}\n",
    "2 & 1 &   &   &   &   &      \\\\\n",
    "1 & 4 & 1 &   &   &   &      \\\\\n",
    "  & 1 & 4 & 1 &   &   &      \\\\\n",
    "  &   & 1 & 4 & 1 &   &      \\\\\n",
    "  &   &   & \\ddots & \\ddots & \\ddots  &  \\\\\n",
    "  &   &   &       & 1 & 4 & 1  \\\\\n",
    "  &   &   &       &   & 1 & 2  \\\\\n",
    "\\end{array}\n",
    "\\right]\n",
    "\\left[\n",
    "\\begin{array}{c}\n",
    "P'_1 \\\\\n",
    "P'_2 \\\\\n",
    "P'_3 \\\\\n",
    "P'_4 \\\\\n",
    "\\vdots \\\\\n",
    "P'_{n-1} \\\\\n",
    "P'_n \\\\\n",
    "\\end{array}\n",
    "\\right]\n",
    "=\n",
    "\\left[\n",
    "\\begin{array}{c}\n",
    "3(x_1-x_0) \\\\\n",
    "3(x_2-x_1) \\\\\n",
    "3(x_3-x_2) \\\\\n",
    "3(x_4-x_3) \\\\\n",
    "\\vdots \\\\\n",
    "3(x_{n-1}-x_{n-2}) \\\\\n",
    "3(x_n-x_{n-1}) \\\\\n",
    "\\end{array}\n",
    "\\right]\n",
    "\\end{align}\n",
    "\n",
    "A cubic spline interpolation can easily be performed using scipy."
   ]
  },
  {
   "cell_type": "code",
   "execution_count": null,
   "metadata": {},
   "outputs": [],
   "source": [
    "from scipy.interpolate import CubicSpline\n",
    "xval2=linspace(0,nopoints-1,16)\n",
    "csval=zeros((nofuncs),dtype=ndarray)\n",
    "for i in range(nofuncs):\n",
    "    csval[i] = CubicSpline(myxold, myval[i])"
   ]
  },
  {
   "cell_type": "code",
   "execution_count": null,
   "metadata": {},
   "outputs": [],
   "source": [
    "fig, ax = plt.subplots(figsize=(8,5))\n",
    "for i in range(nofuncs):\n",
    "    ax.plot(xval2,csval[i](xval2),marker='x',color=colors[i],label='cubic spline, f{}'.format(i+1))\n",
    "    ax.plot(myval[i],marker='<',color=colors[i],linestyle='')\n",
    "\n",
    "ax.set_xlabel('x point',fontsize=18)\n",
    "ax.set_ylabel('y value',fontsize=18)\n",
    "plt.xticks(fontsize=18)\n",
    "plt.yticks(fontsize=18)\n",
    "legend = ax.legend(loc='lower right', shadow=False,fontsize=mf,borderpad = 0.1, labelspacing = 0, handlelength = 0.8)\n",
    "#plt.savefig('problem3_cubicspline.pdf',dpi=300,bbox_inches='tight')\n",
    "plt.show()"
   ]
  },
  {
   "cell_type": "markdown",
   "metadata": {},
   "source": [
    "We can see that the first and second derivatives are continuous."
   ]
  },
  {
   "cell_type": "code",
   "execution_count": null,
   "metadata": {},
   "outputs": [],
   "source": [
    "noderivs=2\n",
    "tt = ['First','Second']\n",
    "fig, ax = plt.subplots(noderivs,figsize=(8,4*noderivs))\n",
    "for j in range(noderivs):\n",
    "    for i in range(nofuncs):\n",
    "        ax[j].plot(xval2,csval[i](xval2,j+1),marker='x',color=colors[i],label='f{}'.format(i+1))\n",
    "    ax[j].set_title('{} derivatives'.format(tt[j]),fontsize=mf)\n",
    "    ax[j].set_xlabel('x point',fontsize=18)\n",
    "    ax[j].set_ylabel('y value',fontsize=18)\n",
    "    ax[j].tick_params(labelsize=mf)\n",
    "    legend = ax[j].legend(loc='lower right', shadow=False,fontsize=mf,borderpad = 0.1, labelspacing = 0, handlelength = 0.8)\n",
    "plt.tight_layout()\n",
    "plt.show()"
   ]
  },
  {
   "cell_type": "markdown",
   "metadata": {},
   "source": [
    "# Problem 3: Best function\n",
    "\n",
    "The file data_problem3_task1.dat contains the time-dependent dipole moment of HeH$^+$ during irradiation with a laser pulse of 53 fs length. The left column is the time value and the right column contains the dipole moment value in atomic units.\n",
    "\n",
    "Use the data in data_problem3_task1.dat to perform a linear and a cubic spline interpolation. Plot your results.\n",
    "\n",
    "In a second experiment, the time-dependent dipole moment of HeH$^+$ was recorded on a much finer time grid. The real data is contained in data_problem3_task2.dat. Compare your fit to the real data - what do you notice?\n",
    "\n",
    "__Optional additional task (no requirement)__\n",
    "\n",
    "Repeat the above steps for the data in file data_problem3_task3.dat; this file contains the photodissociation probability of NaI over time. Compare to the real data in data_problem3_task4.dat.\n",
    "\n",
    "Upload your notebook to moodle."
   ]
  },
  {
   "cell_type": "code",
   "execution_count": null,
   "metadata": {},
   "outputs": [],
   "source": [
    "    "
   ]
  }
 ],
 "metadata": {
  "kernelspec": {
   "display_name": "Python 3",
   "language": "python",
   "name": "python3"
  },
  "language_info": {
   "codemirror_mode": {
    "name": "ipython",
    "version": 3
   },
   "file_extension": ".py",
   "mimetype": "text/x-python",
   "name": "python",
   "nbconvert_exporter": "python",
   "pygments_lexer": "ipython3",
   "version": "3.7.6"
  }
 },
 "nbformat": 4,
 "nbformat_minor": 2
}
