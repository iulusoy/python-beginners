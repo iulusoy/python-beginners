{
 "cells": [
  {
   "cell_type": "markdown",
   "metadata": {},
   "source": [
    "Inga Ulusoy, Computational modelling in python, SoSe2020 \n",
    "\n",
    "# Expressing symbolic functions on a numeric grid\n",
    "\n",
    "Given are the following functions:\n",
    "\n",
    "\\begin{align}\n",
    "    f_1(x) &= x\\left(x-3\\right)\\left(x+3\\right) \\\\\n",
    "    f_2(x) &= \\left| x \\right| \\\\\n",
    "    f_3(x) &= \\sin \\left(2.1x\\right)\\left(-\\frac{x}{2}\\right) \\\\\n",
    "    f_4(x) &= 1.6^x -1.5x \\\\\n",
    "    f_5(x,y) &= \\sin\\left(x+y\\right)\\tan\\left(0.1x\\right) \\\\\n",
    "    f_6(x,y) &= \\sin\\left(\\sqrt{5}+x\\right)y \\\\\n",
    "\\end{align}\n",
    "\n",
    "\\- courtesy of Anna Bardroff \\- \n",
    "\n",
    "\n",
    "# Task 1\n",
    "\n",
    "Define numeric functions for $f_1$ to $f_6$ and plot the 1D functions $f_1$ to $f_4$ using labels, axes formatting etc. to make the plots look nice."
   ]
  },
  {
   "cell_type": "code",
   "execution_count": null,
   "metadata": {},
   "outputs": [],
   "source": [
    "from math import *\n",
    "from numpy import *\n",
    "import matplotlib.pyplot as plt\n",
    "\n",
    "def myfunc(x,y):\n",
    "    z = x**2+y**2\n",
    "    return z"
   ]
  },
  {
   "cell_type": "markdown",
   "metadata": {},
   "source": [
    "# 3D plots and contour plots\n",
    "\n",
    "We can generate surface plots and contour plots for 2D functions as below. If you need to plot more than one surface in the same surface plot, matplotlib will likely render it incorrectly - see\n",
    "https://stackoverflow.com/questions/13932150/matplotlib-wrong-overlapping-when-plotting-two-3d-surfaces-on-the-same-axes - in this case, mayavi should be used for the plots."
   ]
  },
  {
   "cell_type": "code",
   "execution_count": null,
   "metadata": {},
   "outputs": [],
   "source": [
    "#need additional modules\n",
    "from mpl_toolkits.mplot3d import Axes3D\n",
    "from matplotlib import cm\n",
    "\n",
    "mf = 16\n",
    "#the x and y values need to be spanned on a 2D mesh\n",
    "num1 = arange(-5,5,0.1)\n",
    "num2 = arange(-5,5,0.1)\n",
    "X, Y = meshgrid(num1, num2)\n",
    "print(X,Y)\n",
    "f5 = myfunc(X,Y)\n",
    "print(f5)\n",
    "fig = plt.figure(figsize=(10,8))\n",
    "ax = fig.gca(projection='3d')\n",
    "ax.plot_surface(X, Y, f5,cmap = cm.viridis,rstride=1, cstride=1,edgecolor='none')\n",
    "plt.xticks(fontsize=mf)\n",
    "plt.yticks(fontsize=mf)\n",
    "#z axis fontsize is a bit cumbersome\n",
    "for t in ax.zaxis.get_major_ticks(): t.label.set_fontsize(mf)\n",
    "\n",
    "ax.set_xlabel('x value',fontsize=mf)\n",
    "ax.set_ylabel('y value',fontsize=mf)\n",
    "ax.set_zlabel('z value',fontsize=mf)\n",
    "plt.show()\n",
    "\n",
    "#or as a contour\n",
    "fig = plt.figure(figsize=(10,8))\n",
    "ax = fig.gca(projection='3d')\n",
    "ax.contourf(X, Y, f5, zdir='z', offset=0, cmap=cm.coolwarm)\n",
    "plt.xticks(fontsize=mf)\n",
    "plt.yticks(fontsize=mf)\n",
    "for t in ax.zaxis.get_major_ticks(): t.label.set_fontsize(mf)\n",
    "ax.set_xlabel('x value',fontsize=mf)\n",
    "ax.set_ylabel('y value',fontsize=mf)\n",
    "ax.set_zlabel('z value',fontsize=mf)\n",
    "plt.show()\n",
    "\n",
    "#both graphics can be combined\n",
    "fig = plt.figure(figsize=(10,8))\n",
    "ax = fig.gca(projection='3d')\n",
    "ax.plot_surface(X, Y, f5,cmap = cm.viridis,rstride=1, cstride=1,edgecolor='none')\n",
    "#alpha gives the opacity of the visual object\n",
    "#offset signifies at which z value to plot the contour\n",
    "ax.contourf(X, Y, f5, zdir='z', offset=-0.5, cmap='Greys',alpha=0.7)\n",
    "plt.xticks(fontsize=mf)\n",
    "plt.yticks(fontsize=mf)\n",
    "for t in ax.zaxis.get_major_ticks(): t.label.set_fontsize(mf)\n",
    "ax.set_xlabel('x value',fontsize=mf)\n",
    "ax.set_ylabel('y value',fontsize=mf)\n",
    "ax.set_zlabel('z value',fontsize=mf)\n",
    "plt.show()"
   ]
  },
  {
   "cell_type": "code",
   "execution_count": null,
   "metadata": {},
   "outputs": [],
   "source": [
    "#or in a 2D contour plot\n",
    "\n",
    "#pcolor\n",
    "fig, ax = plt.subplots(figsize=(8,5))\n",
    "ax.pcolor(X, Y, f5, cmap='viridis')\n",
    "ax.set_title('Pcolor',fontsize=mf)\n",
    "plt.show()\n",
    "\n",
    "#pcolormesh\n",
    "fig, ax = plt.subplots(figsize=(8,5))\n",
    "ax.pcolormesh(X, Y, f5, cmap='viridis')\n",
    "ax.set_title('Pcolormesh',fontsize=mf)\n",
    "plt.show()\n",
    "\n",
    "#imshow\n",
    "fig, ax = plt.subplots(figsize=(8,5))\n",
    "ax.imshow(f5,extent=[-5,5,-5,5])\n",
    "ax.set_title('imshow',fontsize=mf)\n",
    "plt.show()"
   ]
  },
  {
   "cell_type": "markdown",
   "metadata": {},
   "source": [
    "__The difference between pcolor/pcolormesh/imshow:__\n",
    "\n",
    " - pcolor and pcolormesh are practically identical, with the only difference that pcolormesh is much faster as it is solely intended for this purpose\n",
    " - imshow is again faster than pcolormesh\n",
    " - imshow follows the image processing convention with the origin in the top left corner. This can be rotated as shown below."
   ]
  },
  {
   "cell_type": "code",
   "execution_count": null,
   "metadata": {},
   "outputs": [],
   "source": [
    "#pcolormesh\n",
    "fig, ax = plt.subplots(figsize=(8,5))\n",
    "\n",
    "c = ax.pcolormesh(X, Y, f5, cmap='viridis')\n",
    "cbar = plt.colorbar(c)\n",
    "cbar.ax.set_yticklabels(['-0.4','-0.2','0.0','0.2','0.4'],fontsize=mf)\n",
    "cbar.set_label('my colors', rotation=90,fontsize=mf)\n",
    "\n",
    "plt.xticks(fontsize=mf)\n",
    "plt.yticks(fontsize=mf)\n",
    "ax.set_xlabel('x value',fontsize=mf)\n",
    "ax.set_ylabel('y value',fontsize=mf)\n",
    "ax.set_title('Pcolormesh',fontsize=mf)\n",
    "\n",
    "plt.show()"
   ]
  },
  {
   "cell_type": "code",
   "execution_count": null,
   "metadata": {},
   "outputs": [],
   "source": [
    "#imshow\n",
    "fig, ax = plt.subplots(figsize=(8,5))\n",
    "c = ax.imshow(f5,extent=[-5,5,-5,5],origin='lower')\n",
    "cbar = plt.colorbar(c)\n",
    "cbar.ax.set_yticklabels(['-0.4','-0.2','0.0','0.2','0.4'],fontsize=mf)\n",
    "cbar.set_label('my colors', rotation=90,fontsize=mf)\n",
    "\n",
    "plt.xticks(fontsize=mf)\n",
    "plt.yticks(fontsize=mf)\n",
    "ax.set_xlabel('x value',fontsize=mf)\n",
    "ax.set_ylabel('y value',fontsize=mf)\n",
    "\n",
    "ax.set_title('imshow with axes same as pcolormesh',fontsize=mf)\n",
    "plt.show()\n",
    "#imshow\n",
    "fig, ax = plt.subplots(figsize=(8,5))\n",
    "c = ax.imshow(f5,extent=[-5,5,-5,5])\n",
    "cbar = plt.colorbar(c)\n",
    "cbar.ax.set_yticklabels(['-0.4','-0.2','0.0','0.2','0.4'],fontsize=mf)\n",
    "cbar.set_label('my colors', rotation=90,fontsize=mf)\n",
    "\n",
    "plt.xticks(fontsize=mf)\n",
    "plt.yticks(fontsize=mf)\n",
    "ax.set_xlabel('x value',fontsize=mf)\n",
    "ax.set_ylabel('y value',fontsize=mf)\n",
    "\n",
    "ax.set_title('imshow with original setting',fontsize=mf)\n",
    "plt.show()"
   ]
  },
  {
   "cell_type": "markdown",
   "metadata": {},
   "source": [
    "# Task 2\n",
    "\n",
    "Plot $f_5$ and $f_6$ using surface plots and contour plots."
   ]
  },
  {
   "cell_type": "code",
   "execution_count": null,
   "metadata": {},
   "outputs": [],
   "source": []
  }
 ],
 "metadata": {
  "kernelspec": {
   "display_name": "Python 3",
   "language": "python",
   "name": "python3"
  },
  "language_info": {
   "codemirror_mode": {
    "name": "ipython",
    "version": 3
   },
   "file_extension": ".py",
   "mimetype": "text/x-python",
   "name": "python",
   "nbconvert_exporter": "python",
   "pygments_lexer": "ipython3",
   "version": "3.7.6"
  }
 },
 "nbformat": 4,
 "nbformat_minor": 4
}
