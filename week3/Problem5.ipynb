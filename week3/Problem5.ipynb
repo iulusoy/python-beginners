{
 "cells": [
  {
   "cell_type": "markdown",
   "metadata": {},
   "source": [
    "Inga Ulusoy, Computational modelling in python, SoSe2020 \n",
    "\n",
    "# Lists, loop structures, tuples, arrays and case selection in python\n",
    "\n",
    "- Lists contain several objects that can be anything:"
   ]
  },
  {
   "cell_type": "code",
   "execution_count": null,
   "metadata": {},
   "outputs": [],
   "source": [
    "mylist1 = ['a','b','c']\n",
    "print('A list with strings',mylist1)\n",
    "a=5\n",
    "b=6\n",
    "c=5682.3\n",
    "mylist2 = [a,b,c]\n",
    "print('A list with integers and floats',mylist2)\n",
    "mylist3 = ['you','with','May','4th','the','be']\n",
    "print('Something garbled',mylist3)"
   ]
  },
  {
   "cell_type": "markdown",
   "metadata": {},
   "source": [
    "We can access the elements of a list by its index:"
   ]
  },
  {
   "cell_type": "code",
   "execution_count": null,
   "metadata": {},
   "outputs": [],
   "source": [
    "print(mylist1[1])\n",
    "print(mylist1[-1])\n",
    "print(mylist1[-2])\n",
    "print(mylist1[0:2]) #slices of lists"
   ]
  },
  {
   "cell_type": "markdown",
   "metadata": {},
   "source": [
    "We cannot perform arithmetic operations on lists:"
   ]
  },
  {
   "cell_type": "code",
   "execution_count": null,
   "metadata": {},
   "outputs": [],
   "source": [
    "5.8*mylist2"
   ]
  },
  {
   "cell_type": "markdown",
   "metadata": {},
   "source": [
    "But we can perform arithmetic operations on the elements of a list:"
   ]
  },
  {
   "cell_type": "code",
   "execution_count": null,
   "metadata": {},
   "outputs": [],
   "source": [
    "5.8*mylist2[1]"
   ]
  },
  {
   "cell_type": "markdown",
   "metadata": {},
   "source": [
    "Lists themselves can also contain lists (and are called nested lists):"
   ]
  },
  {
   "cell_type": "code",
   "execution_count": null,
   "metadata": {},
   "outputs": [],
   "source": [
    "mylist4 = [mylist1,mylist2,mylist3]\n",
    "print(mylist4)\n",
    "mylist5 = [[1,2,3],['f','d','s','a']]\n",
    "print(mylist5)"
   ]
  },
  {
   "cell_type": "markdown",
   "metadata": {},
   "source": [
    "Elements in nested lists are accessed as such:"
   ]
  },
  {
   "cell_type": "code",
   "execution_count": null,
   "metadata": {},
   "outputs": [],
   "source": [
    "print(mylist5[0][0])\n",
    "print(mylist5[1][-1])\n",
    "print(mylist5[1][2])"
   ]
  },
  {
   "cell_type": "markdown",
   "metadata": {},
   "source": [
    "Elements in lists can be changed:"
   ]
  },
  {
   "cell_type": "code",
   "execution_count": null,
   "metadata": {},
   "outputs": [],
   "source": [
    "print(mylist2)\n",
    "mylist2[1]=83.5\n",
    "print(mylist2)"
   ]
  },
  {
   "cell_type": "markdown",
   "metadata": {},
   "source": [
    "Lists can be extended using append():"
   ]
  },
  {
   "cell_type": "code",
   "execution_count": null,
   "metadata": {},
   "outputs": [],
   "source": [
    "mylist1.append('d')\n",
    "print(mylist1)\n",
    "mylist6=[]\n",
    "mylist6.append(mylist1)\n",
    "mylist6.append(mylist2)\n",
    "print(mylist6)"
   ]
  },
  {
   "cell_type": "markdown",
   "metadata": {},
   "source": [
    "Lists can be extended without generating nested lists using extend:"
   ]
  },
  {
   "cell_type": "code",
   "execution_count": null,
   "metadata": {},
   "outputs": [],
   "source": [
    "mylist1.extend('e')\n",
    "print(mylist1)\n",
    "mylist6=[]\n",
    "mylist6.extend(mylist1)\n",
    "mylist6.extend(mylist2)\n",
    "print(mylist6)"
   ]
  },
  {
   "cell_type": "markdown",
   "metadata": {},
   "source": [
    "Lists can also be concatenated and repeated:"
   ]
  },
  {
   "cell_type": "code",
   "execution_count": null,
   "metadata": {},
   "outputs": [],
   "source": [
    "print(mylist1 + [1,2,3])\n",
    "\n",
    "print(mylist1 * 3)"
   ]
  },
  {
   "cell_type": "markdown",
   "metadata": {},
   "source": [
    "We can also insert items:"
   ]
  },
  {
   "cell_type": "code",
   "execution_count": null,
   "metadata": {},
   "outputs": [],
   "source": [
    "mylist7 = mylist1\n",
    "print(mylist7)\n",
    "mylist7.insert(1,'x')\n",
    "print(mylist7)\n",
    "mylist7.insert(1,'x')\n",
    "print(mylist7)\n",
    "print(mylist1)\n",
    "#note these point to the same memory address"
   ]
  },
  {
   "cell_type": "code",
   "execution_count": null,
   "metadata": {},
   "outputs": [],
   "source": [
    "mylist7 = []\n",
    "mylist7.extend(mylist1)\n",
    "print(mylist7)\n",
    "mylist7.insert(1,'x')\n",
    "print(mylist7)\n",
    "mylist7.insert(1,'x')\n",
    "print(mylist7)\n",
    "print(mylist1)\n",
    "#note these do not point to the same memory address, only values are handed to mylist7 and not the memory location"
   ]
  },
  {
   "cell_type": "markdown",
   "metadata": {},
   "source": [
    "Deleting items from lists:"
   ]
  },
  {
   "cell_type": "code",
   "execution_count": null,
   "metadata": {},
   "outputs": [],
   "source": [
    "del mylist7[0]\n",
    "print(mylist7)\n",
    "mylist7.remove('x')\n",
    "print(mylist7)"
   ]
  },
  {
   "cell_type": "markdown",
   "metadata": {},
   "source": [
    "Python List Methods:\n",
    "\n",
    "append() - Add an element to the end of the list\\\n",
    "extend() - Add all elements of a list to the another list\\\n",
    "insert() - Insert an item at the defined index\\\n",
    "remove() - Removes an item from the list\\\n",
    "pop() - Removes and returns an element at the given index\\\n",
    "clear() - Removes all items from the list\\\n",
    "index() - Returns the index of the first matched item\\\n",
    "count() - Returns the count of number of items passed as an argument\\\n",
    "sort() - Sort items in a list in ascending order\\\n",
    "reverse() - Reverse the order of items in the list\\\n",
    "copy() - Returns a shallow copy of the list"
   ]
  },
  {
   "cell_type": "markdown",
   "metadata": {},
   "source": [
    "## Looping over lists\n",
    "\n",
    "There are two kinds of loops in python: while-loop and for-loop.\n",
    "\n",
    "### while-loop"
   ]
  },
  {
   "cell_type": "code",
   "execution_count": null,
   "metadata": {},
   "outputs": [],
   "source": [
    "j=0 #needs to be initialized\n",
    "while j < len(mylist1): #as long as condition is fulfilled, loop is executed\n",
    "    print(mylist1[j])\n",
    "    j = j+1"
   ]
  },
  {
   "cell_type": "code",
   "execution_count": null,
   "metadata": {},
   "outputs": [],
   "source": [
    "j=0\n",
    "x = 'y'\n",
    "while x != 'c':\n",
    "    print(x)    \n",
    "    x=mylist1[j]\n",
    "    j = j+1\n",
    "    print(x)"
   ]
  },
  {
   "cell_type": "code",
   "execution_count": null,
   "metadata": {},
   "outputs": [],
   "source": [
    "j = 0\n",
    "mx=100\n",
    "while j < mx:\n",
    "    print(j)\n",
    "    j=j+1 #what happens if we forget to add 1?"
   ]
  },
  {
   "cell_type": "markdown",
   "metadata": {},
   "source": [
    "### for-loop"
   ]
  },
  {
   "cell_type": "code",
   "execution_count": null,
   "metadata": {},
   "outputs": [],
   "source": [
    "for j in range(5):\n",
    "    print(j)"
   ]
  },
  {
   "cell_type": "code",
   "execution_count": null,
   "metadata": {},
   "outputs": [],
   "source": [
    "for j in range(2,5):\n",
    "    print(j)"
   ]
  },
  {
   "cell_type": "code",
   "execution_count": null,
   "metadata": {},
   "outputs": [],
   "source": [
    "for j in range(len(mylist1)):\n",
    "    print(j,mylist1[j])"
   ]
  },
  {
   "cell_type": "code",
   "execution_count": null,
   "metadata": {},
   "outputs": [],
   "source": [
    "for j in mylist1:\n",
    "    print(j,mylist1.index(j))"
   ]
  },
  {
   "cell_type": "code",
   "execution_count": null,
   "metadata": {},
   "outputs": [],
   "source": [
    "for j,mm in enumerate(mylist1):\n",
    "    print(j,mm)"
   ]
  },
  {
   "cell_type": "markdown",
   "metadata": {},
   "source": [
    "## Tuples\n",
    "- tuples are like lists but the elements cannot be changed:"
   ]
  },
  {
   "cell_type": "code",
   "execution_count": null,
   "metadata": {},
   "outputs": [],
   "source": [
    "mytuple1 = ()\n",
    "print(mytuple1)\n",
    "\n",
    "mytuple2 = (1, 2, 3)\n",
    "print(mytuple2)\n",
    "\n",
    "mytuple3 = (1, 'a', 5673.4)\n",
    "print(mytuple3)\n",
    "\n",
    "# nested tuple\n",
    "mytuple4 = (mytuple1,mytuple2,mytuple3)\n",
    "print(mytuple4)"
   ]
  },
  {
   "cell_type": "markdown",
   "metadata": {},
   "source": [
    "Tuples can also be created without the parentheses (tuple packing):"
   ]
  },
  {
   "cell_type": "code",
   "execution_count": null,
   "metadata": {},
   "outputs": [],
   "source": [
    "mytuple5 = 'h',3.0,5.8\n",
    "print(mytuple5)"
   ]
  },
  {
   "cell_type": "markdown",
   "metadata": {},
   "source": [
    "The reverse is also possible (tuple unpacking):"
   ]
  },
  {
   "cell_type": "code",
   "execution_count": null,
   "metadata": {},
   "outputs": [],
   "source": [
    "a, b, c = mytuple5\n",
    "print(a)\n",
    "print(b)\n",
    "print(c)"
   ]
  },
  {
   "cell_type": "code",
   "execution_count": null,
   "metadata": {},
   "outputs": [],
   "source": [
    "my_tuple = (\"hello\")\n",
    "print(type(my_tuple))  # <class 'str'>\n",
    "\n",
    "# Creating a tuple having one element\n",
    "my_tuple = (\"hello\",)\n",
    "print(type(my_tuple))  # <class 'tuple'>\n",
    "\n",
    "# Parentheses is optional\n",
    "my_tuple = \"hello\",\n",
    "print(type(my_tuple))  # <class 'tuple'>"
   ]
  },
  {
   "cell_type": "markdown",
   "metadata": {},
   "source": [
    "Tuples are immutable:"
   ]
  },
  {
   "cell_type": "code",
   "execution_count": null,
   "metadata": {},
   "outputs": [],
   "source": [
    "print(mytuple2[0])\n",
    "mytuple2[0]=10"
   ]
  },
  {
   "cell_type": "markdown",
   "metadata": {},
   "source": [
    "## Arrays\n",
    "\n",
    "- arrays are used for mathematical operations\n",
    "- requires numpy - python itself has only lists"
   ]
  },
  {
   "cell_type": "code",
   "execution_count": null,
   "metadata": {},
   "outputs": [],
   "source": [
    "from numpy import *\n",
    "length = 10\n",
    "array1 = zeros(length)\n",
    "print(array1)\n",
    "array1 = ones(length)\n",
    "print(array1)\n",
    "array1 = empty([length,length])\n",
    "print(array1)"
   ]
  },
  {
   "cell_type": "code",
   "execution_count": null,
   "metadata": {},
   "outputs": [],
   "source": [
    "myarray1 = array([1,2,3,4,5,6,7,8,9,10])\n",
    "print(myarray1)\n",
    "print(type(myarray1))\n",
    "print(myarray1.dtype)\n",
    "myarray1 = array([1,2,3,4,5,6,7,8,9,10],dtype=complex)\n",
    "print(myarray1)\n",
    "print(myarray1.dtype)"
   ]
  },
  {
   "cell_type": "markdown",
   "metadata": {},
   "source": [
    "Arrays can contain different types of data. The type is determined automatically unless it is explicitly declared."
   ]
  },
  {
   "cell_type": "code",
   "execution_count": null,
   "metadata": {},
   "outputs": [],
   "source": [
    "myarray2 = zeros(length,dtype=ndarray)\n",
    "print(myarray2)\n",
    "myarray2[0]=myarray1\n",
    "print(myarray2)"
   ]
  },
  {
   "cell_type": "markdown",
   "metadata": {},
   "source": [
    "The elements of an array can themselves be arrays."
   ]
  },
  {
   "cell_type": "code",
   "execution_count": null,
   "metadata": {},
   "outputs": [],
   "source": [
    "myarray2[0]=ones((length,length,length))\n",
    "print(myarray2)"
   ]
  },
  {
   "cell_type": "markdown",
   "metadata": {},
   "source": [
    "Array indexing is similar to list indexing: x[start:stop:step]"
   ]
  },
  {
   "cell_type": "code",
   "execution_count": null,
   "metadata": {},
   "outputs": [],
   "source": [
    "print(myarray1[0:length:2])\n",
    "#this is the same as\n",
    "print(myarray1[::2])\n",
    "#if start and stop coincide with first and last element of the array, they need not to be given\n",
    "print(myarray1[::-2])\n",
    "#a negative step reverses the order."
   ]
  },
  {
   "cell_type": "markdown",
   "metadata": {},
   "source": [
    "And arrays can be reshaped:"
   ]
  },
  {
   "cell_type": "code",
   "execution_count": null,
   "metadata": {},
   "outputs": [],
   "source": [
    "myarray2 = array([1,2,3,4,5,6,7,8,9])\n",
    "print(myarray2)\n",
    "myarray3 = myarray2.reshape(3,3)\n",
    "print(myarray3)"
   ]
  },
  {
   "cell_type": "markdown",
   "metadata": {},
   "source": [
    "Very useful functions are arange and linspace. arange returns values between start, stop, dx where the last point (stop) is not included; whereas linspace returns values between start, stop, nogridpoints where the last point (stop) is included."
   ]
  },
  {
   "cell_type": "code",
   "execution_count": null,
   "metadata": {},
   "outputs": [],
   "source": [
    "myarray2 = arange(1,10)\n",
    "print(myarray2)\n",
    "print(arange(9))\n",
    "print(arange(0,9,0.5))\n",
    "\n",
    "myarray3 = linspace(0,10,16)\n",
    "print(myarray3)\n",
    "myarray4 = myarray3.reshape(8,2)\n",
    "print(myarray4)\n",
    "print(linspace(2,5,4))"
   ]
  },
  {
   "cell_type": "markdown",
   "metadata": {},
   "source": [
    "Arrays can be concatenated:"
   ]
  },
  {
   "cell_type": "code",
   "execution_count": null,
   "metadata": {},
   "outputs": [],
   "source": [
    "print(concatenate([myarray2,myarray2]))"
   ]
  },
  {
   "cell_type": "markdown",
   "metadata": {},
   "source": [
    "There is a large number of functions available for operations on arrays. See \\\n",
    "https://docs.scipy.org/doc/numpy/reference/routines.array-manipulation.html \\\n",
    "https://docs.scipy.org/doc/numpy/reference/routines.sort.html \\\n",
    "https://docs.scipy.org/doc/numpy/reference/routines.statistics.html \n",
    "            \n",
    "For an overview see https://docs.scipy.org/doc/numpy/reference/routines.html.\n"
   ]
  },
  {
   "cell_type": "markdown",
   "metadata": {},
   "source": [
    "## Case selection in python\n",
    "\n",
    "Cases are selected using the if... else... and if... elif...else... clause. For this, an expression is evaluated to True or False, and depending on the evaluation, different cases are selected. The relational operators are\n",
    "\n",
    "|relational operator|meaning|\n",
    "|---|---|\n",
    "| > | larger than |\n",
    "| < | smaller than |\n",
    "| == | equal to |\n",
    "| >= | larger than or equal |\n",
    "| <= | smaller than or equal |\n",
    "| != | not equal to |"
   ]
  },
  {
   "cell_type": "code",
   "execution_count": null,
   "metadata": {},
   "outputs": [],
   "source": [
    "mylist1 = ['a','b','c','d','e','f','g']\n",
    "myletter = 'f'\n",
    "for i in mylist1:\n",
    "    if i == myletter:\n",
    "        print('Found it!')\n",
    "    else:\n",
    "        print('Not yet!')"
   ]
  },
  {
   "cell_type": "code",
   "execution_count": null,
   "metadata": {},
   "outputs": [],
   "source": [
    "myletter2 = 'a'\n",
    "for i in mylist1:\n",
    "    if i == myletter:\n",
    "        print('Found it!')\n",
    "    elif i == myletter2:\n",
    "        print('Far from it!')\n",
    "    else:\n",
    "        print('Not yet!')"
   ]
  },
  {
   "cell_type": "code",
   "execution_count": null,
   "metadata": {},
   "outputs": [],
   "source": [
    "myarray1 = linspace(0,5,10)\n",
    "val = 4.2\n",
    "temp = 0.0\n",
    "dt = 10.0\n",
    "for i in myarray1:\n",
    "    if i <= val:\n",
    "        temp += dt\n",
    "print(temp)"
   ]
  },
  {
   "cell_type": "markdown",
   "metadata": {},
   "source": [
    "## There are also __sets__ and __dictionaries__ which we will consider later."
   ]
  },
  {
   "cell_type": "markdown",
   "metadata": {},
   "source": [
    "# Task 1\n",
    "\n",
    "Find out how many colors there are in the mycolors list below. Using loop structures, case selection and list indexing where required, find out\n",
    "1. how many colors have three letters or less in their name?\n",
    "2. how many colors have four letters?\n",
    "3. how many colors have five letters?\n",
    "4. how many colors have six letters?\n",
    "5. how many colors have seven or more letters?\n",
    "\n",
    "You can find the number of letters in a string using the len() function.\n",
    "\n",
    "Create an array that contains the above 1., 2., 3., 4., 5. numbers. Sum over all elements in the array using a loop, and using a numpy intrinsic function that you can find at one of the links above. Calculate the mean average value over all elements in the array using a loop and using a numpy intrinsic function."
   ]
  },
  {
   "cell_type": "code",
   "execution_count": null,
   "metadata": {},
   "outputs": [],
   "source": [
    "#get some data for the list\n",
    "import matplotlib.pyplot as plt\n",
    "from matplotlib import colors as mcolors\n",
    "\n",
    "\n",
    "colors = dict(mcolors.BASE_COLORS, **mcolors.CSS4_COLORS)\n",
    "\n",
    "# Sort colors by hue, saturation, value and name.\n",
    "by_hsv = sorted((tuple(mcolors.rgb_to_hsv(mcolors.to_rgba(color)[:3])), name)\n",
    "                for name, color in colors.items())\n",
    "mycolors = [name for hsv, name in by_hsv]\n",
    "print(mycolors)"
   ]
  },
  {
   "cell_type": "code",
   "execution_count": null,
   "metadata": {},
   "outputs": [],
   "source": [
    "print(mycolors[0],len(mycolors[0]))"
   ]
  },
  {
   "cell_type": "markdown",
   "metadata": {},
   "source": [
    "# Task 2\n",
    "\n",
    "Create an array with 256 values between zero and one, including one. Reshape this array into a 2D-matrix with equal number of rows and columns (square matrix). Multiply this matrix with the identity matrix __I__.\n",
    "\n",
    "Remember: The identity matrix is a square matrix with ones on the diagonal and zero entries everywhere else.\n",
    "\n",
    "\\begin{align}\n",
    "\\mathbf{I} = \n",
    "\\begin{pmatrix} \n",
    "1 & 0 & 0 & \\ldots & 0 \\\\\n",
    "0 & 1 & 0 & \\ldots & 0 \\\\\n",
    "\\vdots & \\vdots & \\vdots & \\ddots & \\vdots \\\\\n",
    "0 & 0 & 0 & \\ldots & 1 \\\\\n",
    " \\end{pmatrix} \n",
    "\\end{align}"
   ]
  },
  {
   "cell_type": "code",
   "execution_count": null,
   "metadata": {},
   "outputs": [],
   "source": []
  }
 ],
 "metadata": {
  "kernelspec": {
   "display_name": "Python 3",
   "language": "python",
   "name": "python3"
  },
  "language_info": {
   "codemirror_mode": {
    "name": "ipython",
    "version": 3
   },
   "file_extension": ".py",
   "mimetype": "text/x-python",
   "name": "python",
   "nbconvert_exporter": "python",
   "pygments_lexer": "ipython3",
   "version": "3.7.6"
  }
 },
 "nbformat": 4,
 "nbformat_minor": 4
}
