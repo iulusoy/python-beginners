{
 "cells": [
  {
   "cell_type": "markdown",
   "metadata": {},
   "source": [
    "Inga Ulusoy, Computational modelling in python, SoSe2020 \n",
    "\n",
    "# Python magic functions\n",
    "\n",
    "IPython: Enhanced interactive python; see https://ipython.readthedocs.io/en/stable/#\n",
    "\n",
    "IPython is meant to allow an interactive monitoring of your implementation. Jupyter is a spin-off of IPython and has its own documentation at https://jupyter-notebook.readthedocs.io/en/stable/index.html (it has a lot of very helpful shortcuts: https://towardsdatascience.com/jypyter-notebook-shortcuts-bf0101a98330 ).\n",
    "\n",
    "Anyways, magic functions are enhancements in addition to python that extend the environment to useful additional functions and shortcuts. They are separated into \"cell magic\" that is invoked with two %%'s and \"line magic\" that requires one %. Cell magic applies to the whole cell (operates on multiple lines of input) and line magic only to single lines of input. Here are some of the most useful magic commands:\n",
    "\n",
    "1. You already know `%%time`: This tells you how long it takes the whole cell to execute."
   ]
  },
  {
   "cell_type": "code",
   "execution_count": null,
   "metadata": {},
   "outputs": [],
   "source": [
    "%%time\n",
    "mylist = []\n",
    "for i in range(100):\n",
    "    mylist.append(i)"
   ]
  },
  {
   "cell_type": "markdown",
   "metadata": {},
   "source": [
    "2. Another useful timing-related function is `%time`:"
   ]
  },
  {
   "cell_type": "code",
   "execution_count": null,
   "metadata": {},
   "outputs": [],
   "source": [
    "mylist = []\n",
    "for i in range(10):\n",
    "    %time mylist.append(i)"
   ]
  },
  {
   "cell_type": "markdown",
   "metadata": {},
   "source": [
    "This tells you how long the execution of one specific command took."
   ]
  },
  {
   "cell_type": "markdown",
   "metadata": {},
   "source": [
    "3. %history"
   ]
  },
  {
   "cell_type": "code",
   "execution_count": null,
   "metadata": {},
   "outputs": [],
   "source": [
    "%history"
   ]
  },
  {
   "cell_type": "markdown",
   "metadata": {},
   "source": [
    "4. %who"
   ]
  },
  {
   "cell_type": "code",
   "execution_count": null,
   "metadata": {},
   "outputs": [],
   "source": [
    "%who float"
   ]
  },
  {
   "cell_type": "markdown",
   "metadata": {},
   "source": [
    "5. %matplotlib notebook"
   ]
  },
  {
   "cell_type": "code",
   "execution_count": null,
   "metadata": {},
   "outputs": [],
   "source": [
    "%matplotlib notebook\n",
    "from numpy import *\n",
    "import matplotlib.pyplot as plt\n",
    "plt.plot(mylist,sin(mylist))\n",
    "plt.show()"
   ]
  },
  {
   "cell_type": "code",
   "execution_count": null,
   "metadata": {},
   "outputs": [],
   "source": []
  }
 ],
 "metadata": {
  "kernelspec": {
   "display_name": "Python 3",
   "language": "python",
   "name": "python3"
  },
  "language_info": {
   "codemirror_mode": {
    "name": "ipython",
    "version": 3
   },
   "file_extension": ".py",
   "mimetype": "text/x-python",
   "name": "python",
   "nbconvert_exporter": "python",
   "pygments_lexer": "ipython3",
   "version": "3.7.6"
  }
 },
 "nbformat": 4,
 "nbformat_minor": 4
}
