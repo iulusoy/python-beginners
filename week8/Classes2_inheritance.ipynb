{
 "cells": [
  {
   "cell_type": "markdown",
   "metadata": {},
   "source": [
    "Inga Ulusoy, Computational modelling in python, SoSe2020 \n",
    "\n",
    "# Class inheritance\n",
    "\n",
    "You may make use of class inheritance in python: Classes that are related can be organized in some kind of class hierarchy. The most fundamental class is then called the *base* or *parent* class:"
   ]
  },
  {
   "cell_type": "code",
   "execution_count": null,
   "metadata": {},
   "outputs": [],
   "source": [
    "class my_parent_class:\n",
    "    def __init__(self, name):\n",
    "        self.name = name\n",
    "\n",
    "    def printname(self):\n",
    "        print(self.name)\n",
    "\n",
    "instance_parent = my_parent_class(\"Julie\")\n",
    "instance_parent.printname()"
   ]
  },
  {
   "cell_type": "markdown",
   "metadata": {},
   "source": [
    "You may then create a *derived* or *child* class. This class will be somehow related to the parent class and can make use of the parent's methods: "
   ]
  },
  {
   "cell_type": "code",
   "execution_count": null,
   "metadata": {},
   "outputs": [],
   "source": [
    "class my_child_class(my_parent_class):\n",
    "    pass\n",
    "\n",
    "instance_child1 = my_child_class(\"Kate\")\n",
    "instance_child1.printname()"
   ]
  },
  {
   "cell_type": "markdown",
   "metadata": {},
   "source": [
    "Note how the parenthesis of the child class holds the name of the parent class. `pass` means that no further methods/properties are added to the class. The child class can now use the parent's method `printname()`.\n",
    "\n",
    "### You may wish to generate child classes that *extent* the parent classes:"
   ]
  },
  {
   "cell_type": "code",
   "execution_count": null,
   "metadata": {},
   "outputs": [],
   "source": [
    "class my_extended_child1(my_parent_class):\n",
    "    def __init__(self, name, age):\n",
    "        my_parent_class.__init__(self, name) # this inherits the __init__ function from the parent class\n",
    "        self.age = age\n",
    "        \n",
    "    def printage(self):\n",
    "        print('Age: ',self.age)"
   ]
  },
  {
   "cell_type": "markdown",
   "metadata": {},
   "source": [
    "__Or__ use the `super()` function:"
   ]
  },
  {
   "cell_type": "code",
   "execution_count": null,
   "metadata": {},
   "outputs": [],
   "source": [
    "class my_extended_child2(my_parent_class):\n",
    "    def __init__(self, name, age):\n",
    "        super().__init__(name)  # this inherits all definitions and methods from the parent class\n",
    "                                # note that you do not pass self in this case!\n",
    "        self.age = age\n",
    "        \n",
    "    def printage(self):\n",
    "        print('Age: ',self.age)"
   ]
  },
  {
   "cell_type": "code",
   "execution_count": null,
   "metadata": {},
   "outputs": [],
   "source": [
    "#instance_child1 = my_extended_child1(\"Kate\",6)\n",
    "instance_child1 = my_extended_child2(\"Kate\",6)\n",
    "instance_child1.printname()\n",
    "instance_child1.printage()"
   ]
  },
  {
   "cell_type": "markdown",
   "metadata": {},
   "source": [
    "You may override methods of the parent class:"
   ]
  },
  {
   "cell_type": "code",
   "execution_count": null,
   "metadata": {},
   "outputs": [],
   "source": [
    "class my_different_child(my_parent_class):\n",
    "    def __init__(self, name, age):\n",
    "        super().__init__(name)  # this inherits all definitions and methods from the parent class\n",
    "                                # note that you do not pass self in this case!\n",
    "        self.age = age\n",
    "    \n",
    "    def printname(self):\n",
    "        print('Name is still: ',self.name)\n",
    "        \n",
    "    def printage(self):\n",
    "        print('Age: ',self.age)"
   ]
  },
  {
   "cell_type": "code",
   "execution_count": null,
   "metadata": {},
   "outputs": [],
   "source": [
    "instance_child1 = my_different_child(\"Kate\",6)\n",
    "instance_child1.printname()\n",
    "instance_child1.printage()\n",
    "# to still use the old method, use the class name:\n",
    "my_parent_class.printname(instance_child1)"
   ]
  },
  {
   "cell_type": "markdown",
   "metadata": {},
   "source": [
    "### Or you may wish to use a derived class that specializes on the parent classes' methods:"
   ]
  },
  {
   "cell_type": "code",
   "execution_count": null,
   "metadata": {},
   "outputs": [],
   "source": [
    "class my_special_child(my_parent_class):\n",
    "    def __init__(self, name, nickname):\n",
    "        my_parent_class.__init__(self, name) # this inherits the __init__ function from the parent class\n",
    "        self.nname = nickname      \n",
    "        \n",
    "    def printname(self):\n",
    "        my_parent_class.printname(self)\n",
    "        print('but everyone calls me',self.nname)\n",
    "        \n",
    "instance_child1 = my_special_child(\"Kate\",\"Katie\")      \n",
    "instance_child1.printname()"
   ]
  },
  {
   "cell_type": "markdown",
   "metadata": {},
   "source": [
    "# Task 1\n",
    "\n",
    "Generate a parent class and two child classes. The parent class should contain:\n",
    "\n",
    "- Calculation of the area and perimeter of a square.\n",
    "\n",
    "The first child class should contain:\n",
    "\n",
    "- Calculation of the area and perimeter of a rectangle.\n",
    "\n",
    "The second child class should contain:\n",
    "\n",
    "- A plotting function for area and perimeter.\n",
    "\n",
    "Upload to moodle."
   ]
  },
  {
   "cell_type": "code",
   "execution_count": null,
   "metadata": {},
   "outputs": [],
   "source": []
  }
 ],
 "metadata": {
  "kernelspec": {
   "display_name": "Python 3",
   "language": "python",
   "name": "python3"
  },
  "language_info": {
   "codemirror_mode": {
    "name": "ipython",
    "version": 3
   },
   "file_extension": ".py",
   "mimetype": "text/x-python",
   "name": "python",
   "nbconvert_exporter": "python",
   "pygments_lexer": "ipython3",
   "version": "3.7.6"
  }
 },
 "nbformat": 4,
 "nbformat_minor": 4
}
