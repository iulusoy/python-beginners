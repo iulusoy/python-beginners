{
 "cells": [
  {
   "cell_type": "markdown",
   "metadata": {},
   "source": [
    "Inga Ulusoy, Computational modelling in python, SoSe2020 \n",
    "\n",
    "# Autocorrelation functions and Fourier transforms\n",
    "\n",
    "The autocorrelation function is defined as the overlap of the propagated wave function with the wave function at $t=0$:\n",
    "\\begin{align}\n",
    "C(t) = \\langle \\Psi (0) | \\Psi (t) \\rangle\n",
    "\\end{align}\n",
    "\n",
    "The Fourier transform gives the spectrum. For an overview of available functions, see https://docs.scipy.org/doc/numpy/reference/routines.fft.html."
   ]
  },
  {
   "cell_type": "code",
   "execution_count": null,
   "metadata": {},
   "outputs": [],
   "source": [
    "from math import *\n",
    "from numpy import *\n",
    "from scipy import linalg\n",
    "from scipy.constants import eV, c, h, hbar, m_e\n",
    "from scipy.constants import physical_constants\n",
    "import matplotlib.pyplot as plt\n",
    "from scipy.integrate import ode\n",
    "prop_cycle = plt.rcParams['axes.prop_cycle']\n",
    "colors = prop_cycle.by_key()['color']\n",
    "amu = physical_constants['atomic mass constant'][0]\n",
    "bohr = physical_constants['Bohr radius'][0]\n",
    "cm2Eh = 4.556335E-6\n",
    "JtoEh = 4.359744E-18\n",
    "au2fs = 0.0241888"
   ]
  },
  {
   "cell_type": "markdown",
   "metadata": {},
   "source": [
    "Let's calculate the autocorrelation function for our HO example."
   ]
  },
  {
   "cell_type": "code",
   "execution_count": null,
   "metadata": {},
   "outputs": [],
   "source": [
    "#parameters of the HO: no of grid points for x\n",
    "nsteps=500\n",
    "xmin = 0\n",
    "xmax = 5\n",
    "#vibrational frequency in cm^-1\n",
    "w = 2990\n",
    "#interatomic distance in a.u.\n",
    "R0 = 2.9\n",
    "omega = w*cm2Eh\n",
    "\n",
    "def get_mu(m1,m2):\n",
    "    mu = m1*m2/(m1+m2)\n",
    "    return mu\n",
    "\n",
    "def get_k(mu,omega):\n",
    "    k = mu*(2*pi*omega*100*c)**2\n",
    "    #print(omega*100*c*10**-12,'THz')\n",
    "    return k\n",
    "\n",
    "m1 = 1*amu\n",
    "m2 = 35*amu\n",
    "mu = get_mu(m1,m2)\n",
    "#convert this to atomic units by dividing througe m_e\n",
    "muau=mu/m_e\n",
    "k = get_k(mu,w)\n",
    "print('Reduced mass is {:3.2e} kg ({:4.2f} au) and the force constant {:4.2f} N/m.'.format(mu,muau,k))\n",
    "\n",
    "#set up the nuclear grid\n",
    "#step size h for the numerical derivative\n",
    "xgrid,h=linspace(xmin,xmax,nsteps,retstep=True)\n",
    "\n",
    "def potential(x,omega):\n",
    "    pot=(0.5*omega**2*x**2)\n",
    "    return pot\n",
    "\n",
    "# create the Hamiltonian\n",
    "Hamiltonian=zeros((nsteps,nsteps))\n",
    "[i,j] = indices(Hamiltonian.shape)\n",
    "Laplacian=(-2.0*diag(ones(nsteps))+diag(ones(nsteps-1),1)+diag(ones(nsteps-1),-1))/(float)(h**2)\n",
    "#convert the internuclear distance to relative distance from R0\n",
    "xgridr = (xgrid-R0)*sqrt(muau)\n",
    "V=potential(xgridr,omega)\n",
    "Hamiltonian[i==j]=V\n",
    "Hamiltonian+=(-1.0/(2.0*muau))*Laplacian\n",
    "\n",
    "energies, wavef = linalg.eigh(Hamiltonian)\n",
    "print('Zero-point energy: {:3.2f} cm-1'.format(energies[0]/cm2Eh))\n",
    "print('Fundamental vibration: {:3.2f} cm-1'.format((energies[1]-energies[0])/cm2Eh))"
   ]
  },
  {
   "cell_type": "code",
   "execution_count": null,
   "metadata": {},
   "outputs": [],
   "source": [
    "#let's try a superposition state\n",
    "#set the inital state\n",
    "initstate = [1,2]\n",
    "val = 1.0/sqrt(len(initstate))\n",
    "#or set this manually if you do not want a 1:1 superposition\n",
    "psi=wavef.flatten(order='F')\n",
    "energy=zeros(nsteps*nsteps)\n",
    "cvec = zeros((nsteps*nsteps),dtype=complex)\n",
    "for i in range(nsteps):\n",
    "    for j in range(nsteps):\n",
    "        energy[i*nsteps+j] = energies[i]\n",
    "\n",
    "for i in range(len(initstate)):\n",
    "    cvec[(initstate[i]-1)*nsteps:initstate[i]*nsteps]=val\n",
    "psi=psi*cvec\n",
    "t0=0.0\n",
    "t1fs = 100\n",
    "dtfs = 1\n",
    "tsteps = int(t1fs/dtfs)\n",
    "t1 = t1fs/au2fs\n",
    "dt = dtfs/au2fs\n",
    "def f(t, y, arg1):\n",
    "    return [-1j*arg1*y] \n",
    "r = ode(f).set_integrator('zvode', method='adams')\n",
    "r.set_initial_value(psi, t0).set_f_params(energy)\n",
    "    \n",
    "psitemp=zeros((tsteps,nsteps*nsteps),dtype=complex)\n",
    "tgrid=zeros(tsteps)\n",
    "i=0\n",
    "while r.successful() and r.t < t1:\n",
    "    tgrid[i]=r.t+dt\n",
    "    psitemp[i]=r.integrate(r.t+dt)\n",
    "    i+=1\n",
    "\n",
    "psit = psitemp.reshape(tsteps,nsteps,nsteps)\n",
    "#build one psi\n",
    "psiout = zeros((tsteps,nsteps),dtype=complex)\n",
    "for i in range(tsteps):\n",
    "    for j in range(nsteps):\n",
    "        psiout[i] += psit[i,j]"
   ]
  },
  {
   "cell_type": "code",
   "execution_count": null,
   "metadata": {},
   "outputs": [],
   "source": [
    "#plot\n",
    "fig, ax = plt.subplots(tsteps,figsize=(5,3*tsteps),sharex=True,sharey=True)\n",
    "for i in range(tsteps):\n",
    "    ax[i].plot(xgrid,real(psiout[i]),label='real part')\n",
    "    ax[i].plot(xgrid,imag(psiout[i]),label='imaginary part')\n",
    "    ax[i].plot(xgrid,abs(psiout[i])**2,label='density')\n",
    "    ax[i].text(xmin,0.17,'t = {:2.1f}fs'.format(tgrid[i]*au2fs),fontsize=14)\n",
    "    ax[i].set_ylim(bottom=-0.2,top=0.2)\n",
    "ax[0].set_title(r'$\\Psi_{ODE}$',fontsize=18)\n",
    "\n",
    "plt.subplots_adjust(wspace = 0.0)\n",
    "plt.subplots_adjust(hspace = 0.0)\n",
    "plt.show()"
   ]
  },
  {
   "cell_type": "code",
   "execution_count": null,
   "metadata": {},
   "outputs": [],
   "source": [
    "def check_norm(psi):\n",
    "    n = len(psi)\n",
    "    c = zeros((n),dtype=complex)\n",
    "    for i in range(n):\n",
    "        c[i]=sum(conj(psi[i])*psi[i])\n",
    "    return c\n",
    "\n",
    "def aucofu(psi):\n",
    "    n = len(psi)\n",
    "    c = zeros((n),dtype=complex)\n",
    "    for i in range(n):\n",
    "        c[i]=sum(conj(psi[0])*psi[i])\n",
    "    return c"
   ]
  },
  {
   "cell_type": "code",
   "execution_count": null,
   "metadata": {},
   "outputs": [],
   "source": [
    "tt = check_norm(psit)\n",
    "tt2 = aucofu(psit)\n",
    "\n",
    "#plt.plot(real(tt))\n",
    "#plt.plot(imag(tt))\n",
    "#plt.plot(abs(tt)**2)\n",
    "\n",
    "plt.plot(real(tt2))\n",
    "plt.plot(imag(tt2))\n",
    "plt.plot(abs(tt2)**2)\n",
    "\n",
    "plt.show()"
   ]
  },
  {
   "cell_type": "code",
   "execution_count": null,
   "metadata": {},
   "outputs": [],
   "source": [
    "def spec(c,eshift,tmax):\n",
    "    fw = fft.ifft(c)\n",
    "    n = len(c)//2\n",
    "    dw = 2*pi/tmax\n",
    "    norm = 1/tmax\n",
    "    omega = (arange(n+1))*dw - eshift\n",
    "    return fw[:n+1],omega"
   ]
  },
  {
   "cell_type": "code",
   "execution_count": null,
   "metadata": {},
   "outputs": [],
   "source": [
    "fw,omega = spec(tt2,0.0,t1)\n",
    "w=omega/cm2Eh\n",
    "plt.plot(w,real(fw))\n",
    "plt.plot(w,imag(fw))\n",
    "plt.plot(w,abs(fw)**2)\n",
    "plt.xlim(left=500,right=5500)\n",
    "#plt.vlines((energies[1]-energies[0])/cm2Eh,-0.6,0.6)\n",
    "plt.vlines((energies[0])/cm2Eh,-0.6,0.6)\n",
    "plt.vlines((energies[1])/cm2Eh,-0.6,0.6)\n",
    "plt.show()"
   ]
  },
  {
   "cell_type": "markdown",
   "metadata": {},
   "source": [
    "How can we get a better resolution between the points? The sampling theorem states that the sampling rate in time domain connects to the maximum resolved frequency as \n",
    "\\begin{align}\n",
    "f_{max} = \\frac{1}{2dt} \\\\\n",
    "\\omega_{max} = 2\\pi f = \\frac{\\pi}{dt}\n",
    "\\end{align}"
   ]
  },
  {
   "cell_type": "code",
   "execution_count": null,
   "metadata": {},
   "outputs": [],
   "source": [
    "print(omega[-1])\n",
    "print(pi/((tgrid[1]-tgrid[0])))"
   ]
  },
  {
   "cell_type": "markdown",
   "metadata": {},
   "source": [
    "To obtain a better frequency resolution, we need to propagate for a longer time, as then the lower frequencies are better resolved:\n",
    "\\begin{align}\n",
    "\\Delta f = \\frac{1} {t_{max}} \\\\\n",
    "\\Delta \\omega = \\frac{2 \\pi} {t_{max}}\n",
    "\\end{align}"
   ]
  },
  {
   "cell_type": "code",
   "execution_count": null,
   "metadata": {},
   "outputs": [],
   "source": [
    "print(2*pi/tgrid[-1])"
   ]
  },
  {
   "cell_type": "markdown",
   "metadata": {},
   "source": [
    "So let's try that and see the difference!"
   ]
  },
  {
   "cell_type": "code",
   "execution_count": null,
   "metadata": {},
   "outputs": [],
   "source": [
    "t0=0.0\n",
    "t2fs = 500\n",
    "dtfs = 1\n",
    "tsteps = int(t2fs/dtfs)\n",
    "t1 = t2fs/au2fs\n",
    "dt = dtfs/au2fs\n",
    "thresh = 1e-8\n",
    "\n",
    "r.set_initial_value(psi, t0).set_f_params(energy)\n",
    "    \n",
    "psitemp=zeros((tsteps,nsteps*nsteps),dtype=complex)\n",
    "tgrid=zeros(tsteps)\n",
    "i=0\n",
    "\n",
    "#have to correct for inaccuracies when transforming to au through the use of a numerical threshold\n",
    "while r.successful() and (t1-r.t) > thresh:\n",
    "    tgrid[i]=r.t+dt\n",
    "    psitemp[i]=r.integrate(r.t+dt)\n",
    "    i+=1\n",
    "\n",
    "psit = psitemp.reshape(tsteps,nsteps,nsteps)\n",
    "#build one psi\n",
    "psiout = zeros((tsteps,nsteps),dtype=complex)\n",
    "for i in range(tsteps):\n",
    "    for j in range(nsteps):\n",
    "        psiout[i] += psit[i,j]"
   ]
  },
  {
   "cell_type": "code",
   "execution_count": null,
   "metadata": {},
   "outputs": [],
   "source": [
    "tt = check_norm(psit)\n",
    "tt2 = aucofu(psit)\n",
    "\n",
    "plt.plot(real(tt))\n",
    "plt.plot(imag(tt))\n",
    "plt.plot(abs(tt)**2)\n",
    "\n",
    "plt.plot(real(tt2))\n",
    "plt.plot(imag(tt2))\n",
    "plt.plot(abs(tt2)**2)\n",
    "\n",
    "plt.show()"
   ]
  },
  {
   "cell_type": "code",
   "execution_count": null,
   "metadata": {},
   "outputs": [],
   "source": [
    "fw,omega = spec(tt2,0.0,t1)\n",
    "w=omega/cm2Eh\n",
    "plt.plot(w,real(fw))\n",
    "plt.plot(w,imag(fw))\n",
    "plt.plot(w,abs(fw)**2)\n",
    "plt.xlim(left=-500,right=5500)\n",
    "#plt.vlines((energies[1]-energies[0])/cm2Eh,-0.6,0.6)\n",
    "plt.vlines((energies[0])/cm2Eh,-0.6,0.6)\n",
    "plt.vlines((energies[1])/cm2Eh,-0.6,0.6)\n",
    "plt.show()"
   ]
  },
  {
   "cell_type": "markdown",
   "metadata": {},
   "source": [
    "You can try this out for different superposition states and propagation lengths!"
   ]
  },
  {
   "cell_type": "markdown",
   "metadata": {},
   "source": [
    "# Filtering methods and improving the FFT\n",
    "\n",
    "Assume you have a noisy signal like this:"
   ]
  },
  {
   "cell_type": "code",
   "execution_count": null,
   "metadata": {},
   "outputs": [],
   "source": [
    "import pandas as pd\n",
    "fname = 'data_spec.dat'\n",
    "expect = pd.read_csv('{}'.format(fname), sep='\\s+')\n",
    "time = expect.time.values/au2fs\n",
    "etot = expect.Htot.values\n",
    "\n",
    "#because of () we need to use .loc[]\n",
    "sigt1 = array(expect.loc[:,'Re(Acf)'] + 1j*expect.loc[:,'Im(Acf)'])\n",
    "plt.plot(time,real(sigt1))\n",
    "plt.show()\n",
    "plt.plot(time,imag(sigt1))\n",
    "plt.show()"
   ]
  },
  {
   "cell_type": "code",
   "execution_count": null,
   "metadata": {},
   "outputs": [],
   "source": [
    "fw,omega = spec(sigt1,0.0,time[-1])\n",
    "mf=22\n",
    "fig, ax = plt.subplots(figsize=(15,10))\n",
    "ax.plot(omega,abs(fw))\n",
    "ax.set_xlim(left=0,right=0.9)\n",
    "ax.set_ylim(bottom=0,top=0.06)\n",
    "ax.tick_params(labelsize=mf)\n",
    "ax.set_xlabel('Energy (E$_h$)', fontsize=mf)\n",
    "ax.set_ylabel('Intensity', fontsize=mf)\n",
    "plt.show()"
   ]
  },
  {
   "cell_type": "markdown",
   "metadata": {},
   "source": [
    "Can we clean this up somehow? \n",
    "\n",
    "1. Multiply with a function so that the autocorrelation function is cut off at the endpoint (reduce Gibb's phenomenon: spurious oscillations at interval boundaries). For example: \n",
    "\\begin{align}\n",
    "f = \\cos\\left(\\frac{\\pi t}{2T} \\right)\n",
    "\\end{align}\n",
    "where $T$ is the final time of the propagation.\n",
    "Or, if you want to ensure both end points are zero and the function reflects periodicity in time:\n",
    "\\begin{align}\n",
    "f = \\sin\\left(\\frac{\\pi t}{T}\\right)\n",
    " \\end{align}\n",
    " \n",
    "You can also use a combination of both:\n",
    "\\begin{align}\n",
    "f = \\sin\\left(\\frac{\\pi t}{T}\\right) \\exp \\left( -\\frac{t-T}{2\\sigma T} \\right)^2\n",
    " \\end{align}\n",
    "2. Use (sliding) window functions to extract time profiles of spectra.\n",
    "\n",
    "\n",
    "3. Use an FFT as filtering methods to reduce noise."
   ]
  },
  {
   "cell_type": "code",
   "execution_count": null,
   "metadata": {},
   "outputs": [],
   "source": [
    "#1. \n",
    "plt.plot(time,cos(pi*time/(2*time[-1])))\n",
    "plt.show()\n",
    "f2 = cos(pi*time/(2*time[-1]))*sigt1\n",
    "plt.plot(time,real(f2))\n",
    "plt.plot(time,imag(f2))\n",
    "plt.show()\n",
    "fw2,omega2 = spec(f2,0.0,time[-1])\n",
    "mf=22\n",
    "fig, ax = plt.subplots(figsize=(15,10))\n",
    "ax.plot(omega,abs(fw))\n",
    "ax.plot(omega2,abs(fw2))\n",
    "ax.set_xlim(left=0,right=0.9)\n",
    "ax.set_ylim(bottom=0,top=0.06)\n",
    "ax.tick_params(labelsize=mf)\n",
    "ax.set_xlabel('Energy (E$_h$)', fontsize=mf)\n",
    "ax.set_ylabel('Intensity', fontsize=mf)\n",
    "plt.show()"
   ]
  },
  {
   "cell_type": "code",
   "execution_count": null,
   "metadata": {},
   "outputs": [],
   "source": [
    "#1. \n",
    "plt.plot(time,sin(pi*time/(time[-1])))\n",
    "plt.show()\n",
    "f2 = sin(pi*time/(time[-1]))*sigt1\n",
    "plt.plot(time,real(f2))\n",
    "plt.plot(time,imag(f2))\n",
    "plt.show()\n",
    "fw2,omega2 = spec(f2,0.0,time[-1])\n",
    "mf=22\n",
    "fig, ax = plt.subplots(figsize=(15,10))\n",
    "ax.plot(omega,abs(fw))\n",
    "ax.plot(omega2,abs(fw2))\n",
    "ax.set_xlim(left=0,right=0.9)\n",
    "ax.set_ylim(bottom=0,top=0.06)\n",
    "ax.tick_params(labelsize=mf)\n",
    "ax.set_xlabel('Energy (E$_h$)', fontsize=mf)\n",
    "ax.set_ylabel('Intensity', fontsize=mf)\n",
    "plt.show()"
   ]
  },
  {
   "cell_type": "code",
   "execution_count": null,
   "metadata": {},
   "outputs": [],
   "source": [
    "#1. \n",
    "sigma=0.8\n",
    "myw = sin(pi*time/(time[-1]))*exp(-0.5*(time-time[-1])/(sigma*time[-1]))**2\n",
    "plt.plot(time,myw)\n",
    "plt.show()\n",
    "f2 = myw*sigt1\n",
    "plt.plot(time,real(f2))\n",
    "plt.plot(time,imag(f2))\n",
    "plt.show()\n",
    "fw2,omega2 = spec(f2,0.0,time[-1])\n",
    "mf=22\n",
    "fig, ax = plt.subplots(figsize=(15,10))\n",
    "ax.plot(omega,abs(fw))\n",
    "ax.plot(omega2,abs(fw2))\n",
    "ax.set_xlim(left=0,right=0.9)\n",
    "ax.set_ylim(bottom=0,top=0.06)\n",
    "ax.tick_params(labelsize=mf)\n",
    "ax.set_xlabel('Energy (E$_h$)', fontsize=mf)\n",
    "ax.set_ylabel('Intensity', fontsize=mf)\n",
    "plt.show()"
   ]
  },
  {
   "cell_type": "code",
   "execution_count": null,
   "metadata": {},
   "outputs": [],
   "source": [
    "#2. \n",
    "def window(time):\n",
    "    myw = sin(pi*time/(time[-1]))*exp(-0.5*(time-time[-1])/(sigma*time[-1]))**2\n",
    "    return myw\n",
    "#for example, split the propagation into ten windows (so each is 50 fs)\n",
    "nowindow = 10\n",
    "lenw = len(time)//nowindow\n",
    "print(lenw,time[0],time[lenw]*au2fs)\n",
    "myw = sin(pi*time[0:lenw]/(time[lenw-1]))*exp(-0.5*(time[0:lenw]-time[lenw-1])/(sigma*time[lenw-1]))**2\n",
    "#plt.plot(myw)\n",
    "#plt.show()\n",
    "maskw = zeros((nowindow,len(time)))\n",
    "myf = zeros((nowindow,len(time)),dtype=complex)\n",
    "myfw = zeros((nowindow,len(time)//2+1),dtype=complex)\n",
    "for i in range(nowindow):\n",
    "    i0 = i*lenw\n",
    "    i1 = (i+1)*lenw\n",
    "    print(i0,i1)\n",
    "    arr1 = zeros(i0)\n",
    "    arr2 = zeros(len(time)-i1)\n",
    "    if i0 == 0:\n",
    "        maskw[i] = concatenate([myw,arr2])\n",
    "    else:\n",
    "        maskw[i] = concatenate([arr1,myw,arr2])\n",
    "    plt.plot(time,maskw[i])\n",
    "    myf[i]=sigt1*maskw[i]\n",
    "    myfw[i],omega = spec(myf[i],0.0,time[-1])\n",
    "    \n",
    "plt.show()"
   ]
  },
  {
   "cell_type": "code",
   "execution_count": null,
   "metadata": {},
   "outputs": [],
   "source": [
    "fig, ax = plt.subplots(nowindow,figsize=(8,3*nowindow))\n",
    "for i in range(nowindow):\n",
    "    ax[i].plot(omega,abs(myfw[i]))\n",
    "    ax[i].set_xlim(left=0,right=0.9)\n",
    "    ax[i].set_ylim(bottom=0,top=0.06)\n",
    "    ax[i].tick_params(labelsize=mf)\n",
    "    ax[i].set_xlabel('Energy (E$_h$)', fontsize=mf)\n",
    "    ax[i].set_ylabel('Intensity', fontsize=mf)\n",
    "plt.show()"
   ]
  },
  {
   "cell_type": "code",
   "execution_count": null,
   "metadata": {},
   "outputs": [],
   "source": [
    "plt.imshow(abs(myfw)-abs(myfw[0]),extent=(0,1000,0,nowindow),aspect=100)\n",
    "#plt.imshow(abs(myfw),extent=(0,1000,0,nowindow),aspect=100)\n",
    "plt.show()"
   ]
  },
  {
   "cell_type": "markdown",
   "metadata": {},
   "source": [
    "Generally, we see that the low-frequency features originate in later times."
   ]
  },
  {
   "cell_type": "code",
   "execution_count": null,
   "metadata": {},
   "outputs": [],
   "source": [
    "# 3.\n",
    "fw = fft.ifft(sigt1)\n",
    "omega = fft.fftfreq(sigt1.size, d=time[1]-time[0])\n",
    "omega = omega*2*pi\n",
    "plt.plot(omega)\n",
    "plt.show()\n",
    "high_freq_fft = fw.copy()\n",
    "# set the maximum frequency to 0.1 Eh\n",
    "max_freq = 0.1\n",
    "high_freq_fft[abs(omega) > max_freq] = 0\n",
    "filtered_sig = fft.fft(high_freq_fft)\n",
    "plt.figure(figsize=(10, 8))\n",
    "plt.plot(time*au2fs, sigt1, label='Original signal')\n",
    "plt.plot(time*au2fs, filtered_sig, linewidth=2, label='Filtered signal')\n",
    "plt.xlim(left=0,right=100)\n",
    "plt.xlabel('Time [fs]')\n",
    "plt.ylabel('Amplitude')\n",
    "plt.legend(loc='best')\n",
    "plt.show()"
   ]
  },
  {
   "cell_type": "code",
   "execution_count": null,
   "metadata": {},
   "outputs": [],
   "source": [
    "fw,omega = spec(sigt1,0.0,time[-1])\n",
    "fw_filter,omega_filter = spec(filtered_sig,0.0,time[-1])\n",
    "\n",
    "fig, ax = plt.subplots(figsize=(15,10))\n",
    "ax.plot(omega,abs(fw))\n",
    "ax.plot(omega_filter,abs(fw_filter))\n",
    "\n",
    "ax.set_xlim(left=0,right=0.9)\n",
    "ax.set_ylim(bottom=0,top=0.06)\n",
    "ax.tick_params(labelsize=mf)\n",
    "ax.set_xlabel('Energy (E$_h$)', fontsize=mf)\n",
    "ax.set_ylabel('Intensity', fontsize=mf)\n",
    "plt.show()"
   ]
  },
  {
   "cell_type": "markdown",
   "metadata": {},
   "source": [
    "This is quite a brute force approach and for more elaborate use see https://docs.scipy.org/doc/scipy/reference/signal.html."
   ]
  },
  {
   "cell_type": "markdown",
   "metadata": {},
   "source": [
    "# Generate a movie from python plots\n",
    "You can generate movies with python like this:\n",
    "\n",
    "1. Save plots for each time step.\n",
    "\n",
    "2. Convert into movie using ffmpeg."
   ]
  },
  {
   "cell_type": "code",
   "execution_count": null,
   "metadata": {},
   "outputs": [],
   "source": [
    "import os\n",
    "\n",
    "mf=22\n",
    "xmin = 0\n",
    "xmax = 5\n",
    "ymin=-0.2\n",
    "ymax=0.2\n",
    "xpos=xmin\n",
    "ypos=0.17\n",
    "namex='R'\n",
    "namey='Wavefunction and probability'\n",
    "mydir='image'\n",
    "outfile='movie'\n",
    "\n",
    "def make_movie(mf,xmin,xmax,ymin,ymax,xpos,ypos,namex,namey,mydir,outfile):\n",
    "    #for i in range(tsteps):\n",
    "    for i in range(1):\n",
    "        fig, ax = plt.subplots(figsize=(8,5))\n",
    "        plt.plot(xgrid,real(psiout[i]),label='real part')\n",
    "        plt.plot(xgrid,imag(psiout[i]),label='imaginary part')\n",
    "        plt.plot(xgrid,abs(psiout[i])**2,label='density')\n",
    "        plt.text(xpos,ypos,'t = {:2.1f}fs'.format(tgrid[i]*au2fs),fontsize=mf)\n",
    "        ax.set_ylim(bottom=ymin,top=ymax)\n",
    "        ax.set_title(r'$\\Psi_{ODE}$',fontsize=mf)\n",
    "        ax.xaxis.set_tick_params(labelsize=mf)\n",
    "        ax.yaxis.set_tick_params(labelsize=mf)\n",
    "        ax.set_xlabel('{}'.format(namex),fontsize=mf)\n",
    "        ax.set_ylabel('{}'.format(namey),fontsize=mf)\n",
    "        plt.tight_layout()\n",
    "        plt.savefig('{}/im{}.png'.format(mydir,i), dpi=300,bbox_inches='tight')\n",
    "        plt.close()\n",
    "        #plt.show()\n",
    "# you may have to adjust the ffmpeg command according to your operating system etc; this is for MacOS\n",
    "# you may also try other programs that concatenate frames into a movie\n",
    "# please look at the ffmpeg documentation for the meaning of the different options\n",
    "    cur = os.getcwd()\n",
    "    os.chdir(mydir)\n",
    "    os.system('ffmpeg -y -r 8 -i im%d.png -s 1920x1080 -c:v libx264 -pix_fmt yuv420p {}.mp4'.format(outfile))\n",
    "    os.chdir(cur)\n",
    "    \n",
    "make_movie(mf,xmin,xmax,ymin,ymax,xpos,ypos,namex,namey,mydir,outfile)"
   ]
  },
  {
   "cell_type": "code",
   "execution_count": null,
   "metadata": {},
   "outputs": [],
   "source": [
    "cur = os.getcwd()\n",
    "print(cur)"
   ]
  },
  {
   "cell_type": "markdown",
   "metadata": {},
   "source": [
    "# Task 1\n",
    "\n",
    "Generate the spectrum of the harmonic oscillator for a different superposition than the one shown above. Plot the raw spectrum, and the smoothened spectrum using a cosine or sine function as in (1.) above. Do this for two different final times of the propagation, 100 fs and 500 fs.\n",
    "Upload your plot(s) to moodle.\n",
    "\n",
    "# Optional\n",
    "\n",
    "If you want, you can add the autocorrelation function and FT to your program as possible analysis routines."
   ]
  },
  {
   "cell_type": "code",
   "execution_count": null,
   "metadata": {},
   "outputs": [],
   "source": []
  }
 ],
 "metadata": {
  "kernelspec": {
   "display_name": "Python 3",
   "language": "python",
   "name": "python3"
  },
  "language_info": {
   "codemirror_mode": {
    "name": "ipython",
    "version": 3
   },
   "file_extension": ".py",
   "mimetype": "text/x-python",
   "name": "python",
   "nbconvert_exporter": "python",
   "pygments_lexer": "ipython3",
   "version": "3.7.6"
  }
 },
 "nbformat": 4,
 "nbformat_minor": 4
}
